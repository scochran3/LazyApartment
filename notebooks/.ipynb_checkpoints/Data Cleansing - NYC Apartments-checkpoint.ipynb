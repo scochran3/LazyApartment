{
 "cells": [
  {
   "cell_type": "markdown",
   "metadata": {},
   "source": [
    "# Data Cleansing\n",
    "These notebook will explore our raw data after the AWS Lambda data pipeline. The final output of that pipeline is a large amount of JSON data files dumped to S3 with data coming from Craigslist, Mapquest and WalkScore.com."
   ]
  },
  {
   "cell_type": "markdown",
   "metadata": {},
   "source": [
    "## Import Our Libraries"
   ]
  },
  {
   "cell_type": "code",
   "execution_count": 1,
   "metadata": {},
   "outputs": [],
   "source": [
    "import boto3\n",
    "import pandas as pd\n",
    "from pprint import pprint\n",
    "import json\n",
    "import numpy as np\n",
    "import re\n",
    "import Config\n",
    "import pickle"
   ]
  },
  {
   "cell_type": "markdown",
   "metadata": {},
   "source": [
    "## AWS Credentials"
   ]
  },
  {
   "cell_type": "code",
   "execution_count": 2,
   "metadata": {},
   "outputs": [],
   "source": [
    "# Get Credentials\n",
    "credentials = Config.read_credentials()\n",
    "aws_secret = credentials['aws']['aws_secret_access_key']\n",
    "aws_access_key = credentials['aws']['aws_access_key_id']"
   ]
  },
  {
   "cell_type": "markdown",
   "metadata": {},
   "source": [
    "## Bring in the raw JSON data"
   ]
  },
  {
   "cell_type": "code",
   "execution_count": 3,
   "metadata": {},
   "outputs": [],
   "source": [
    "# Get keys of files\n",
    "s3 = boto3.client('s3',\n",
    "                 aws_access_key_id=aws_access_key,\n",
    "                 aws_secret_access_key=aws_secret)\n",
    "\n",
    "bucket = 'lazyapartment'\n",
    "objects = s3.list_objects_v2(Bucket='lazyapartment', Prefix='mapquestEnhancedData/')"
   ]
  },
  {
   "cell_type": "markdown",
   "metadata": {},
   "source": [
    "## Combine all the raw JSON to Pandas for exploration"
   ]
  },
  {
   "cell_type": "code",
   "execution_count": 4,
   "metadata": {},
   "outputs": [],
   "source": [
    "# Put all of the keys into a list\n",
    "keys = [obj['Key'] for obj in objects['Contents']][1:]\n",
    "\n",
    "# Put all the raw data into a pandas dataframe\n",
    "data = []\n",
    "s3 = boto3.resource('s3')\n",
    "for key in keys:\n",
    "    bucket_object = s3.Object(bucket, key)\n",
    "    contents = bucket_object.get()['Body'].read().decode('utf-8')\n",
    "    json_data = json.loads(contents)\n",
    "\n",
    "    for apartments in json_data:\n",
    "        data.append(apartments)\n",
    "\n",
    "df = pd.DataFrame(data)\n",
    "\n",
    "# # Lower all string features\n",
    "# df['name'] = df['name'].str.lower()\n",
    "# df['where'] = df['where'].str.lower()"
   ]
  },
  {
   "cell_type": "markdown",
   "metadata": {},
   "source": [
    "## Export the DF for easy access later"
   ]
  },
  {
   "cell_type": "code",
   "execution_count": 5,
   "metadata": {
    "scrolled": true
   },
   "outputs": [],
   "source": [
    "# # Export for easy access later\n",
    "df = df.to_csv('housing.csv')\n"
   ]
  },
  {
   "cell_type": "markdown",
   "metadata": {},
   "source": [
    "## Clean the data\n",
    "\n",
    "### Separate out latitude and longtidue, drop Geotag column"
   ]
  },
  {
   "cell_type": "code",
   "execution_count": 6,
   "metadata": {},
   "outputs": [],
   "source": [
    "df = pd.read_csv('housing.csv')"
   ]
  },
  {
   "cell_type": "code",
   "execution_count": 7,
   "metadata": {},
   "outputs": [],
   "source": [
    "df.dropna(subset=['geotag'], inplace=True)\n",
    "df['lat'] = df['geotag'].apply(lambda x: x[1:x.index(',')])\n",
    "df['lon'] = df['geotag'].apply(lambda x: x[x.rindex(',')+1:-1])\n",
    "df.drop(columns='geotag', axis=1, inplace=True)"
   ]
  },
  {
   "cell_type": "markdown",
   "metadata": {},
   "source": [
    "### Clean up area\n",
    "Unfortunately many of the apartment listings don't have an area in square feet included. For those that do have square footage they come in as strings, so here we remove \"ft2\" from the column and convert it to a numeric datatype. We can also make a feature for whether or not the posting includes the square footage."
   ]
  },
  {
   "cell_type": "code",
   "execution_count": 8,
   "metadata": {},
   "outputs": [],
   "source": [
    "def cleanUpArea(row):\n",
    "    if type(row) == str:\n",
    "        row = int(row.replace('ft2', ''))\n",
    "    else:\n",
    "        row\n",
    "    return row\n",
    "\n",
    "df['area'] = df['area'].apply(lambda x: cleanUpArea(x))\n",
    "df['includes_area'] = df['area'].apply(lambda x: 0 if np.isnan(x) else 1)"
   ]
  },
  {
   "cell_type": "markdown",
   "metadata": {},
   "source": [
    "### Clean up Price\n",
    "Similarly price is a string as it is prefixed with a '$'"
   ]
  },
  {
   "cell_type": "code",
   "execution_count": 9,
   "metadata": {
    "scrolled": false
   },
   "outputs": [],
   "source": [
    "df['price'] = df['price'].apply(lambda x: x.replace('$', '')).astype(int)"
   ]
  },
  {
   "cell_type": "markdown",
   "metadata": {},
   "source": [
    "### Dates\n",
    "Convert the datetime field to a datetime and extract features"
   ]
  },
  {
   "cell_type": "code",
   "execution_count": 10,
   "metadata": {},
   "outputs": [],
   "source": [
    "df['datetime'] = pd.to_datetime(df['datetime'], format='%Y-%m-%d %H:%M')\n",
    "df['year'] = df['datetime'].dt.year\n",
    "df['month'] = df['datetime'].dt.month\n",
    "df['dow'] = df['datetime'].dt.dayofweek\n",
    "df['day'] = df['datetime'].dt.day\n",
    "df['hour'] = df['datetime'].dt.hour"
   ]
  },
  {
   "cell_type": "markdown",
   "metadata": {},
   "source": [
    "### Missing Bedrooms\n",
    "For whatever reason Craigslist always labels Studios to have 1 bedroom, or often it is missing. For now we will lazily fill apartments that have the word studio in the title with 0 bedrooms or otherwise use the value provided."
   ]
  },
  {
   "cell_type": "code",
   "execution_count": 11,
   "metadata": {
    "scrolled": false
   },
   "outputs": [],
   "source": [
    "def parseBedrooms(row):\n",
    "    if any(re.findall(r'studio', row['name'], re.IGNORECASE)):\n",
    "        return 0\n",
    "    if np.isnan(row['bedrooms']):\n",
    "        if any(re.findall(r'1br|1bedroom|1bd|1 bedroom', row['name'], re.IGNORECASE)):\n",
    "            return 1\n",
    "        elif any(re.findall(r'1br|1bedroom|1bd|1 bedroom', row['name'], re.IGNORECASE)):\n",
    "            return 2\n",
    "        elif any(re.findall(r'1br|1bedroom|1bd|1 bedroom', row['name'], re.IGNORECASE)):\n",
    "            return 3\n",
    "    else:\n",
    "        return row['bedrooms']\n",
    "\n",
    "df['bedrooms'] = df.apply(parseBedrooms, axis=1)"
   ]
  },
  {
   "cell_type": "markdown",
   "metadata": {},
   "source": [
    "### No Fee\n",
    "Many apartments in New York have an additional fee (realtors) attached. Let's create a feature that is whether or not \"No Fee\" is advertised in the title."
   ]
  },
  {
   "cell_type": "code",
   "execution_count": 12,
   "metadata": {},
   "outputs": [],
   "source": [
    "df['advertises_no_fee'] = df['name'].apply(lambda x: 1 if 'no fee' in x.lower() else 0)"
   ]
  },
  {
   "cell_type": "markdown",
   "metadata": {},
   "source": [
    "### Repost\n",
    "Many apartments are reposted on Craigslist if they are not sold as this will put them back at the top of the list for people to see who sort by \"Newest to Oldest\". Let's create a feature for if this is a report or not."
   ]
  },
  {
   "cell_type": "code",
   "execution_count": 13,
   "metadata": {},
   "outputs": [],
   "source": [
    "df['is_repost'] = df['repost_of'].apply(lambda x: 1 if not np.isnan(x) else 0)"
   ]
  },
  {
   "cell_type": "markdown",
   "metadata": {},
   "source": [
    "### Convert booleans to 1/0's"
   ]
  },
  {
   "cell_type": "code",
   "execution_count": 14,
   "metadata": {},
   "outputs": [],
   "source": [
    "df['has_image'] = df['has_image'].astype(int)\n",
    "df['has_map'] = df['has_map'].astype(int)\n",
    "df['sideOfStreetEncoded'] = df['sideOfStreet'].map({'L':0, 'R':1})"
   ]
  },
  {
   "cell_type": "markdown",
   "metadata": {},
   "source": [
    "### Chop the postal codes\n",
    "Remove the backend part of the postall code to keep it as just a 5 digit number"
   ]
  },
  {
   "cell_type": "code",
   "execution_count": 15,
   "metadata": {},
   "outputs": [],
   "source": [
    "df['postalCodeChopped'] = df['postalCode'].astype(str).apply(lambda x: x[0:x.index('-')] if '-' in x else x)\n",
    "df['postalCodeChopped'] = df['postalCodeChopped'].fillna('No Zipcode Specified')"
   ]
  },
  {
   "cell_type": "markdown",
   "metadata": {},
   "source": [
    "### Remove Price Outliers\n",
    "There are a couple of apartments that are way out there for prices (it is NYC after all). This is an exploration for the common man, so let's remove absurdly expensive apartments."
   ]
  },
  {
   "cell_type": "code",
   "execution_count": 16,
   "metadata": {},
   "outputs": [],
   "source": [
    "df['price'] = df['price'].astype(str).str.replace('$', '').astype(int)\n",
    "price_std = df['price'].std()\n",
    "df = df[df['price'] < (df['price'].mean() + 3*price_std)]"
   ]
  },
  {
   "cell_type": "markdown",
   "metadata": {},
   "source": [
    "### Create a cleaner 'where' feature\n",
    "The 'where' feature is a user specified neighborhood. Using [this website](https://www.health.ny.gov/statistics/cancer/registry/appendix/neighborhoods.htm) we can map the postal code to the neighborhood more consistently. This will be cleaner and easier than fixing the 'where' column which is user specified."
   ]
  },
  {
   "cell_type": "code",
   "execution_count": 17,
   "metadata": {
    "scrolled": true
   },
   "outputs": [],
   "source": [
    "neighborhoodMappings = {'Central Bronx': ['10458', '10467', '10468'],\n",
    "                        'Bronx Park and Fordham': ['10451', '10452', '10456'],\n",
    "                        'High Bridge and Morrisania': ['10454', '10455', '10459', '10474'],\n",
    "                        'Hunts Point and Mott Haven': ['10463', '10471'],\n",
    "                        'Kingsbridge and Riverdale': ['10466', '10469', '10470', '10475'],\n",
    "                        'Northeast Bronx': ['10461', '10462','10464', '10465', '10472', '10473'],\n",
    "                        'Southeast Bronx': ['11212', '11213', '11216', '11233', '11238'],\n",
    "                        'Central Brooklyn': ['11209', '11214', '11228'],\n",
    "                        'Southwest Brooklyn': ['11204', '11218', '11219', '11230'],\n",
    "                        'Borough Park': ['11234', '11236', '11239'],\n",
    "                        'Canarsie and Flatlands': ['11223', '11224', '11229', '11235'],\n",
    "                        'Southern Brooklyn': ['11201', '11205', '11215', '11217', '11231'],\n",
    "                        'Northwest Brooklyn': ['11203', '11210', '11225', '11226'],\n",
    "                        'Flatbush': ['11207', '11208'],\n",
    "                        'East New York and New Lots': ['11211', '11222'],\n",
    "                        'Greenpoint': ['11220', '11232'],\n",
    "                        'Sunset Park': ['11206', '11221', '11237'],\n",
    "                        'Bushwick and Williamsburg': ['10026', '10027', '10030', '10037', '10039'],\n",
    "                        'Central Harlem': ['10001', '10011', '10018', '10019', '10020', '10036'],\n",
    "                        'Chelsea and Clinton': ['10029', '10035'],\n",
    "                        'East Harlem': ['10010', '10016', '10017', '10022'],\n",
    "                        'Gramercy Park and Murray Hill': ['10012', '10013', '10014'],\n",
    "                        'Greenwich Village and Soho': ['10004', '10005', '10006', '10007', '10038', '10280'],\n",
    "                        'Lower Manhattan': ['10002', '10003', '10009'],\n",
    "                        'Lower East Side': ['10021', '10028', '10044', '10065', '10075', '10128'],\n",
    "                        'Upper East Side': ['10023', '10024', '10025'],\n",
    "                        'Upper West Side': ['10031', '10032', '10033', '10034', '10040'],\n",
    "                        'Inwood and Washington Heights': ['11361', '11362', '11363', '11364'],\n",
    "                        'Northeast Queens': ['11354', '11355', '11356', '11357', '11358', '11359', '11360'],\n",
    "                        'North Queens': ['11365', '11366', '11367'],\n",
    "                        'Central Queens': ['11412', '11423', '11432', '11433', '11434', '11435', '11436'],\n",
    "                        'Jamaica': ['11101', '11102', '11103', '11104', '11105', '11106'],\n",
    "                        'Northwest Queens': ['11374', '11375', '11379', '11385'],\n",
    "                        'West Central Queens': ['11691', '11692', '11693', '11694', '11695', '11697'],\n",
    "                        'Rockaways': ['11004', '11005', '11411', '11413', '11422', '11426', '11427', '11428', '11429'],\n",
    "                        'Southeast Queens': ['11414', '11415', '11416', '11417', '11418', '11419', '11420', '11421'],\n",
    "                        'Southwest Queens': ['11368', '11369', '11370', '11372', '11373', '11377', '11378'],\n",
    "                        'West Queens': ['10302', '10303', '10310'],\n",
    "                        'Port Richmond': ['10306', '10307', '10308', '10309', '10312'],\n",
    "                        'South Shore': ['10301', '10304', '10305'],\n",
    "                        'Stapleton and St. George': ['10301', '10304', '10305'],\n",
    "                        'Mid-Island': ['10314'],\n",
    "                        'Kearney': ['07302'],\n",
    "                        'Queens': ['11109'],\n",
    "                        'Stamford': ['06902']\n",
    "                        }\n",
    "\n",
    "def applyNeighboorhoodMapping(row):\n",
    "    for key, value in neighborhoodMappings.items():\n",
    "        if row in value:\n",
    "            return key\n",
    "    return \"No Neighhood Found\""
   ]
  },
  {
   "cell_type": "code",
   "execution_count": 18,
   "metadata": {
    "scrolled": true
   },
   "outputs": [],
   "source": [
    "df['neighborhood'] = df['postalCodeChopped'].apply(applyNeighboorhoodMapping)"
   ]
  },
  {
   "cell_type": "markdown",
   "metadata": {},
   "source": [
    "## Export\n",
    "Now that the data is cleaned (somewhat) we can start exploring the relationship among the different features and our response of price. This is done in the Data Exploration - NYC Apartments notebook"
   ]
  },
  {
   "cell_type": "code",
   "execution_count": 19,
   "metadata": {},
   "outputs": [
    {
     "data": {
      "text/plain": [
       "Index(['Unnamed: 0', 'address', 'area', 'bedrooms', 'bikeScore', 'datetime',\n",
       "       'distanceToNearestIntersection', 'has_image', 'has_map', 'id', 'name',\n",
       "       'postalCode', 'price', 'repost_of', 'sideOfStreet', 'transitScore',\n",
       "       'url', 'walkScore', 'where', 'lat', 'lon', 'includes_area', 'year',\n",
       "       'month', 'dow', 'day', 'hour', 'advertises_no_fee', 'is_repost',\n",
       "       'sideOfStreetEncoded', 'postalCodeChopped', 'neighborhood'],\n",
       "      dtype='object')"
      ]
     },
     "execution_count": 19,
     "metadata": {},
     "output_type": "execute_result"
    }
   ],
   "source": [
    "df.columns"
   ]
  },
  {
   "cell_type": "code",
   "execution_count": 20,
   "metadata": {},
   "outputs": [],
   "source": [
    "df = df.set_index('id')\n",
    "df.to_csv('housing_cleaned.csv')"
   ]
  }
 ],
 "metadata": {
  "kernelspec": {
   "display_name": "Python 3",
   "language": "python",
   "name": "python3"
  },
  "language_info": {
   "codemirror_mode": {
    "name": "ipython",
    "version": 3
   },
   "file_extension": ".py",
   "mimetype": "text/x-python",
   "name": "python",
   "nbconvert_exporter": "python",
   "pygments_lexer": "ipython3",
   "version": "3.6.8"
  }
 },
 "nbformat": 4,
 "nbformat_minor": 2
}
