{
 "cells": [
  {
   "cell_type": "markdown",
   "metadata": {},
   "source": [
    "# NLP Prediction\n",
    "\n",
    "## Problem Overview\n",
    "*__The Problem__*: Most (~92%) apartment listings on Craigslist for apartments list how many bedrooms the apartment possesses. However, not all do and the number of bedrooms is an important feature for predicting the price of an apartment. Despite about 8% of listings not filling in the field for bedrooms many of those do put the number of bedrooms in the title. For example, a Craigslist ad could for \"Beautiful 2BR in Brooklyn\", but they won't actually fill in the number of bedrooms. Thus when I scrape data we don't get 2 in the Bedroom field, but it seems like we could predict it based on the title. This notebook explores the idea of using the title of the ad to predict the number of bedrooms.\n",
    "\n",
    "*__The Data__*: This notebook uses data on New York City apartments listed on Craigslist. This is not a Kaggle or publically available data set, but one made by my own AWS pipeline which is described [in this GitHub repo](https://github.com/scochran3/LazyApartment). The pipeline is created by a series of AWS Lambda functions that scrape apartment listing from Craigslist and then enrich that with additional data from various APIs. Luckily since 92% of people do put in the bedroom field we have a nice training data set with apartment ad titles and the number of bedrooms. This can be used to train our NLP model.\n",
    "\n",
    "*__Why This Is an Issue__*: Many algorithms won't play nice with missing data, so it be nice if we could reliabily fill in the number of bedrooms (~8% missing) if our ultimate goal is to predict price of the apartment. The oversimplified pipeline will be: Collect Data -> Use NLP Model to fill in missing bedrooms -> Use other model to predict price.\n",
    "\n",
    "## Libraries\n",
    "(sorry I need to import everything at the top, I can't help it)"
   ]
  },
  {
   "cell_type": "code",
   "execution_count": 1,
   "metadata": {},
   "outputs": [
    {
     "data": {
      "text/html": [
       "\n",
       "    <div class=\"bk-root\">\n",
       "        <a href=\"https://bokeh.pydata.org\" target=\"_blank\" class=\"bk-logo bk-logo-small bk-logo-notebook\"></a>\n",
       "        <span id=\"1001\">Loading BokehJS ...</span>\n",
       "    </div>"
      ]
     },
     "metadata": {},
     "output_type": "display_data"
    },
    {
     "data": {
      "application/javascript": [
       "\n",
       "(function(root) {\n",
       "  function now() {\n",
       "    return new Date();\n",
       "  }\n",
       "\n",
       "  var force = true;\n",
       "\n",
       "  if (typeof root._bokeh_onload_callbacks === \"undefined\" || force === true) {\n",
       "    root._bokeh_onload_callbacks = [];\n",
       "    root._bokeh_is_loading = undefined;\n",
       "  }\n",
       "\n",
       "  var JS_MIME_TYPE = 'application/javascript';\n",
       "  var HTML_MIME_TYPE = 'text/html';\n",
       "  var EXEC_MIME_TYPE = 'application/vnd.bokehjs_exec.v0+json';\n",
       "  var CLASS_NAME = 'output_bokeh rendered_html';\n",
       "\n",
       "  /**\n",
       "   * Render data to the DOM node\n",
       "   */\n",
       "  function render(props, node) {\n",
       "    var script = document.createElement(\"script\");\n",
       "    node.appendChild(script);\n",
       "  }\n",
       "\n",
       "  /**\n",
       "   * Handle when an output is cleared or removed\n",
       "   */\n",
       "  function handleClearOutput(event, handle) {\n",
       "    var cell = handle.cell;\n",
       "\n",
       "    var id = cell.output_area._bokeh_element_id;\n",
       "    var server_id = cell.output_area._bokeh_server_id;\n",
       "    // Clean up Bokeh references\n",
       "    if (id != null && id in Bokeh.index) {\n",
       "      Bokeh.index[id].model.document.clear();\n",
       "      delete Bokeh.index[id];\n",
       "    }\n",
       "\n",
       "    if (server_id !== undefined) {\n",
       "      // Clean up Bokeh references\n",
       "      var cmd = \"from bokeh.io.state import curstate; print(curstate().uuid_to_server['\" + server_id + \"'].get_sessions()[0].document.roots[0]._id)\";\n",
       "      cell.notebook.kernel.execute(cmd, {\n",
       "        iopub: {\n",
       "          output: function(msg) {\n",
       "            var id = msg.content.text.trim();\n",
       "            if (id in Bokeh.index) {\n",
       "              Bokeh.index[id].model.document.clear();\n",
       "              delete Bokeh.index[id];\n",
       "            }\n",
       "          }\n",
       "        }\n",
       "      });\n",
       "      // Destroy server and session\n",
       "      var cmd = \"import bokeh.io.notebook as ion; ion.destroy_server('\" + server_id + \"')\";\n",
       "      cell.notebook.kernel.execute(cmd);\n",
       "    }\n",
       "  }\n",
       "\n",
       "  /**\n",
       "   * Handle when a new output is added\n",
       "   */\n",
       "  function handleAddOutput(event, handle) {\n",
       "    var output_area = handle.output_area;\n",
       "    var output = handle.output;\n",
       "\n",
       "    // limit handleAddOutput to display_data with EXEC_MIME_TYPE content only\n",
       "    if ((output.output_type != \"display_data\") || (!output.data.hasOwnProperty(EXEC_MIME_TYPE))) {\n",
       "      return\n",
       "    }\n",
       "\n",
       "    var toinsert = output_area.element.find(\".\" + CLASS_NAME.split(' ')[0]);\n",
       "\n",
       "    if (output.metadata[EXEC_MIME_TYPE][\"id\"] !== undefined) {\n",
       "      toinsert[toinsert.length - 1].firstChild.textContent = output.data[JS_MIME_TYPE];\n",
       "      // store reference to embed id on output_area\n",
       "      output_area._bokeh_element_id = output.metadata[EXEC_MIME_TYPE][\"id\"];\n",
       "    }\n",
       "    if (output.metadata[EXEC_MIME_TYPE][\"server_id\"] !== undefined) {\n",
       "      var bk_div = document.createElement(\"div\");\n",
       "      bk_div.innerHTML = output.data[HTML_MIME_TYPE];\n",
       "      var script_attrs = bk_div.children[0].attributes;\n",
       "      for (var i = 0; i < script_attrs.length; i++) {\n",
       "        toinsert[toinsert.length - 1].firstChild.setAttribute(script_attrs[i].name, script_attrs[i].value);\n",
       "      }\n",
       "      // store reference to server id on output_area\n",
       "      output_area._bokeh_server_id = output.metadata[EXEC_MIME_TYPE][\"server_id\"];\n",
       "    }\n",
       "  }\n",
       "\n",
       "  function register_renderer(events, OutputArea) {\n",
       "\n",
       "    function append_mime(data, metadata, element) {\n",
       "      // create a DOM node to render to\n",
       "      var toinsert = this.create_output_subarea(\n",
       "        metadata,\n",
       "        CLASS_NAME,\n",
       "        EXEC_MIME_TYPE\n",
       "      );\n",
       "      this.keyboard_manager.register_events(toinsert);\n",
       "      // Render to node\n",
       "      var props = {data: data, metadata: metadata[EXEC_MIME_TYPE]};\n",
       "      render(props, toinsert[toinsert.length - 1]);\n",
       "      element.append(toinsert);\n",
       "      return toinsert\n",
       "    }\n",
       "\n",
       "    /* Handle when an output is cleared or removed */\n",
       "    events.on('clear_output.CodeCell', handleClearOutput);\n",
       "    events.on('delete.Cell', handleClearOutput);\n",
       "\n",
       "    /* Handle when a new output is added */\n",
       "    events.on('output_added.OutputArea', handleAddOutput);\n",
       "\n",
       "    /**\n",
       "     * Register the mime type and append_mime function with output_area\n",
       "     */\n",
       "    OutputArea.prototype.register_mime_type(EXEC_MIME_TYPE, append_mime, {\n",
       "      /* Is output safe? */\n",
       "      safe: true,\n",
       "      /* Index of renderer in `output_area.display_order` */\n",
       "      index: 0\n",
       "    });\n",
       "  }\n",
       "\n",
       "  // register the mime type if in Jupyter Notebook environment and previously unregistered\n",
       "  if (root.Jupyter !== undefined) {\n",
       "    var events = require('base/js/events');\n",
       "    var OutputArea = require('notebook/js/outputarea').OutputArea;\n",
       "\n",
       "    if (OutputArea.prototype.mime_types().indexOf(EXEC_MIME_TYPE) == -1) {\n",
       "      register_renderer(events, OutputArea);\n",
       "    }\n",
       "  }\n",
       "\n",
       "  \n",
       "  if (typeof (root._bokeh_timeout) === \"undefined\" || force === true) {\n",
       "    root._bokeh_timeout = Date.now() + 5000;\n",
       "    root._bokeh_failed_load = false;\n",
       "  }\n",
       "\n",
       "  var NB_LOAD_WARNING = {'data': {'text/html':\n",
       "     \"<div style='background-color: #fdd'>\\n\"+\n",
       "     \"<p>\\n\"+\n",
       "     \"BokehJS does not appear to have successfully loaded. If loading BokehJS from CDN, this \\n\"+\n",
       "     \"may be due to a slow or bad network connection. Possible fixes:\\n\"+\n",
       "     \"</p>\\n\"+\n",
       "     \"<ul>\\n\"+\n",
       "     \"<li>re-rerun `output_notebook()` to attempt to load from CDN again, or</li>\\n\"+\n",
       "     \"<li>use INLINE resources instead, as so:</li>\\n\"+\n",
       "     \"</ul>\\n\"+\n",
       "     \"<code>\\n\"+\n",
       "     \"from bokeh.resources import INLINE\\n\"+\n",
       "     \"output_notebook(resources=INLINE)\\n\"+\n",
       "     \"</code>\\n\"+\n",
       "     \"</div>\"}};\n",
       "\n",
       "  function display_loaded() {\n",
       "    var el = document.getElementById(\"1001\");\n",
       "    if (el != null) {\n",
       "      el.textContent = \"BokehJS is loading...\";\n",
       "    }\n",
       "    if (root.Bokeh !== undefined) {\n",
       "      if (el != null) {\n",
       "        el.textContent = \"BokehJS \" + root.Bokeh.version + \" successfully loaded.\";\n",
       "      }\n",
       "    } else if (Date.now() < root._bokeh_timeout) {\n",
       "      setTimeout(display_loaded, 100)\n",
       "    }\n",
       "  }\n",
       "\n",
       "\n",
       "  function run_callbacks() {\n",
       "    try {\n",
       "      root._bokeh_onload_callbacks.forEach(function(callback) {\n",
       "        if (callback != null)\n",
       "          callback();\n",
       "      });\n",
       "    } finally {\n",
       "      delete root._bokeh_onload_callbacks\n",
       "    }\n",
       "    console.debug(\"Bokeh: all callbacks have finished\");\n",
       "  }\n",
       "\n",
       "  function load_libs(css_urls, js_urls, callback) {\n",
       "    if (css_urls == null) css_urls = [];\n",
       "    if (js_urls == null) js_urls = [];\n",
       "\n",
       "    root._bokeh_onload_callbacks.push(callback);\n",
       "    if (root._bokeh_is_loading > 0) {\n",
       "      console.debug(\"Bokeh: BokehJS is being loaded, scheduling callback at\", now());\n",
       "      return null;\n",
       "    }\n",
       "    if (js_urls == null || js_urls.length === 0) {\n",
       "      run_callbacks();\n",
       "      return null;\n",
       "    }\n",
       "    console.debug(\"Bokeh: BokehJS not loaded, scheduling load and callback at\", now());\n",
       "    root._bokeh_is_loading = css_urls.length + js_urls.length;\n",
       "\n",
       "    function on_load() {\n",
       "      root._bokeh_is_loading--;\n",
       "      if (root._bokeh_is_loading === 0) {\n",
       "        console.debug(\"Bokeh: all BokehJS libraries/stylesheets loaded\");\n",
       "        run_callbacks()\n",
       "      }\n",
       "    }\n",
       "\n",
       "    function on_error() {\n",
       "      console.error(\"failed to load \" + url);\n",
       "    }\n",
       "\n",
       "    for (var i = 0; i < css_urls.length; i++) {\n",
       "      var url = css_urls[i];\n",
       "      const element = document.createElement(\"link\");\n",
       "      element.onload = on_load;\n",
       "      element.onerror = on_error;\n",
       "      element.rel = \"stylesheet\";\n",
       "      element.type = \"text/css\";\n",
       "      element.href = url;\n",
       "      console.debug(\"Bokeh: injecting link tag for BokehJS stylesheet: \", url);\n",
       "      document.body.appendChild(element);\n",
       "    }\n",
       "\n",
       "    for (var i = 0; i < js_urls.length; i++) {\n",
       "      var url = js_urls[i];\n",
       "      var element = document.createElement('script');\n",
       "      element.onload = on_load;\n",
       "      element.onerror = on_error;\n",
       "      element.async = false;\n",
       "      element.src = url;\n",
       "      console.debug(\"Bokeh: injecting script tag for BokehJS library: \", url);\n",
       "      document.head.appendChild(element);\n",
       "    }\n",
       "  };var element = document.getElementById(\"1001\");\n",
       "  if (element == null) {\n",
       "    console.error(\"Bokeh: ERROR: autoload.js configured with elementid '1001' but no matching script tag was found. \")\n",
       "    return false;\n",
       "  }\n",
       "\n",
       "  function inject_raw_css(css) {\n",
       "    const element = document.createElement(\"style\");\n",
       "    element.appendChild(document.createTextNode(css));\n",
       "    document.body.appendChild(element);\n",
       "  }\n",
       "\n",
       "  var js_urls = [\"https://cdn.pydata.org/bokeh/release/bokeh-1.2.0.min.js\", \"https://cdn.pydata.org/bokeh/release/bokeh-widgets-1.2.0.min.js\", \"https://cdn.pydata.org/bokeh/release/bokeh-tables-1.2.0.min.js\", \"https://cdn.pydata.org/bokeh/release/bokeh-gl-1.2.0.min.js\"];\n",
       "  var css_urls = [\"https://cdn.pydata.org/bokeh/release/bokeh-1.2.0.min.css\", \"https://cdn.pydata.org/bokeh/release/bokeh-widgets-1.2.0.min.css\", \"https://cdn.pydata.org/bokeh/release/bokeh-tables-1.2.0.min.css\"];\n",
       "\n",
       "  var inline_js = [\n",
       "    function(Bokeh) {\n",
       "      Bokeh.set_log_level(\"info\");\n",
       "    },\n",
       "    \n",
       "    function(Bokeh) {\n",
       "      \n",
       "    },\n",
       "    function(Bokeh) {} // ensure no trailing comma for IE\n",
       "  ];\n",
       "\n",
       "  function run_inline_js() {\n",
       "    \n",
       "    if ((root.Bokeh !== undefined) || (force === true)) {\n",
       "      for (var i = 0; i < inline_js.length; i++) {\n",
       "        inline_js[i].call(root, root.Bokeh);\n",
       "      }if (force === true) {\n",
       "        display_loaded();\n",
       "      }} else if (Date.now() < root._bokeh_timeout) {\n",
       "      setTimeout(run_inline_js, 100);\n",
       "    } else if (!root._bokeh_failed_load) {\n",
       "      console.log(\"Bokeh: BokehJS failed to load within specified timeout.\");\n",
       "      root._bokeh_failed_load = true;\n",
       "    } else if (force !== true) {\n",
       "      var cell = $(document.getElementById(\"1001\")).parents('.cell').data().cell;\n",
       "      cell.output_area.append_execute_result(NB_LOAD_WARNING)\n",
       "    }\n",
       "\n",
       "  }\n",
       "\n",
       "  if (root._bokeh_is_loading === 0) {\n",
       "    console.debug(\"Bokeh: BokehJS loaded, going straight to plotting\");\n",
       "    run_inline_js();\n",
       "  } else {\n",
       "    load_libs(css_urls, js_urls, function() {\n",
       "      console.debug(\"Bokeh: BokehJS plotting callback run at\", now());\n",
       "      run_inline_js();\n",
       "    });\n",
       "  }\n",
       "}(window));"
      ],
      "application/vnd.bokehjs_load.v0+json": "\n(function(root) {\n  function now() {\n    return new Date();\n  }\n\n  var force = true;\n\n  if (typeof root._bokeh_onload_callbacks === \"undefined\" || force === true) {\n    root._bokeh_onload_callbacks = [];\n    root._bokeh_is_loading = undefined;\n  }\n\n  \n\n  \n  if (typeof (root._bokeh_timeout) === \"undefined\" || force === true) {\n    root._bokeh_timeout = Date.now() + 5000;\n    root._bokeh_failed_load = false;\n  }\n\n  var NB_LOAD_WARNING = {'data': {'text/html':\n     \"<div style='background-color: #fdd'>\\n\"+\n     \"<p>\\n\"+\n     \"BokehJS does not appear to have successfully loaded. If loading BokehJS from CDN, this \\n\"+\n     \"may be due to a slow or bad network connection. Possible fixes:\\n\"+\n     \"</p>\\n\"+\n     \"<ul>\\n\"+\n     \"<li>re-rerun `output_notebook()` to attempt to load from CDN again, or</li>\\n\"+\n     \"<li>use INLINE resources instead, as so:</li>\\n\"+\n     \"</ul>\\n\"+\n     \"<code>\\n\"+\n     \"from bokeh.resources import INLINE\\n\"+\n     \"output_notebook(resources=INLINE)\\n\"+\n     \"</code>\\n\"+\n     \"</div>\"}};\n\n  function display_loaded() {\n    var el = document.getElementById(\"1001\");\n    if (el != null) {\n      el.textContent = \"BokehJS is loading...\";\n    }\n    if (root.Bokeh !== undefined) {\n      if (el != null) {\n        el.textContent = \"BokehJS \" + root.Bokeh.version + \" successfully loaded.\";\n      }\n    } else if (Date.now() < root._bokeh_timeout) {\n      setTimeout(display_loaded, 100)\n    }\n  }\n\n\n  function run_callbacks() {\n    try {\n      root._bokeh_onload_callbacks.forEach(function(callback) {\n        if (callback != null)\n          callback();\n      });\n    } finally {\n      delete root._bokeh_onload_callbacks\n    }\n    console.debug(\"Bokeh: all callbacks have finished\");\n  }\n\n  function load_libs(css_urls, js_urls, callback) {\n    if (css_urls == null) css_urls = [];\n    if (js_urls == null) js_urls = [];\n\n    root._bokeh_onload_callbacks.push(callback);\n    if (root._bokeh_is_loading > 0) {\n      console.debug(\"Bokeh: BokehJS is being loaded, scheduling callback at\", now());\n      return null;\n    }\n    if (js_urls == null || js_urls.length === 0) {\n      run_callbacks();\n      return null;\n    }\n    console.debug(\"Bokeh: BokehJS not loaded, scheduling load and callback at\", now());\n    root._bokeh_is_loading = css_urls.length + js_urls.length;\n\n    function on_load() {\n      root._bokeh_is_loading--;\n      if (root._bokeh_is_loading === 0) {\n        console.debug(\"Bokeh: all BokehJS libraries/stylesheets loaded\");\n        run_callbacks()\n      }\n    }\n\n    function on_error() {\n      console.error(\"failed to load \" + url);\n    }\n\n    for (var i = 0; i < css_urls.length; i++) {\n      var url = css_urls[i];\n      const element = document.createElement(\"link\");\n      element.onload = on_load;\n      element.onerror = on_error;\n      element.rel = \"stylesheet\";\n      element.type = \"text/css\";\n      element.href = url;\n      console.debug(\"Bokeh: injecting link tag for BokehJS stylesheet: \", url);\n      document.body.appendChild(element);\n    }\n\n    for (var i = 0; i < js_urls.length; i++) {\n      var url = js_urls[i];\n      var element = document.createElement('script');\n      element.onload = on_load;\n      element.onerror = on_error;\n      element.async = false;\n      element.src = url;\n      console.debug(\"Bokeh: injecting script tag for BokehJS library: \", url);\n      document.head.appendChild(element);\n    }\n  };var element = document.getElementById(\"1001\");\n  if (element == null) {\n    console.error(\"Bokeh: ERROR: autoload.js configured with elementid '1001' but no matching script tag was found. \")\n    return false;\n  }\n\n  function inject_raw_css(css) {\n    const element = document.createElement(\"style\");\n    element.appendChild(document.createTextNode(css));\n    document.body.appendChild(element);\n  }\n\n  var js_urls = [\"https://cdn.pydata.org/bokeh/release/bokeh-1.2.0.min.js\", \"https://cdn.pydata.org/bokeh/release/bokeh-widgets-1.2.0.min.js\", \"https://cdn.pydata.org/bokeh/release/bokeh-tables-1.2.0.min.js\", \"https://cdn.pydata.org/bokeh/release/bokeh-gl-1.2.0.min.js\"];\n  var css_urls = [\"https://cdn.pydata.org/bokeh/release/bokeh-1.2.0.min.css\", \"https://cdn.pydata.org/bokeh/release/bokeh-widgets-1.2.0.min.css\", \"https://cdn.pydata.org/bokeh/release/bokeh-tables-1.2.0.min.css\"];\n\n  var inline_js = [\n    function(Bokeh) {\n      Bokeh.set_log_level(\"info\");\n    },\n    \n    function(Bokeh) {\n      \n    },\n    function(Bokeh) {} // ensure no trailing comma for IE\n  ];\n\n  function run_inline_js() {\n    \n    if ((root.Bokeh !== undefined) || (force === true)) {\n      for (var i = 0; i < inline_js.length; i++) {\n        inline_js[i].call(root, root.Bokeh);\n      }if (force === true) {\n        display_loaded();\n      }} else if (Date.now() < root._bokeh_timeout) {\n      setTimeout(run_inline_js, 100);\n    } else if (!root._bokeh_failed_load) {\n      console.log(\"Bokeh: BokehJS failed to load within specified timeout.\");\n      root._bokeh_failed_load = true;\n    } else if (force !== true) {\n      var cell = $(document.getElementById(\"1001\")).parents('.cell').data().cell;\n      cell.output_area.append_execute_result(NB_LOAD_WARNING)\n    }\n\n  }\n\n  if (root._bokeh_is_loading === 0) {\n    console.debug(\"Bokeh: BokehJS loaded, going straight to plotting\");\n    run_inline_js();\n  } else {\n    load_libs(css_urls, js_urls, function() {\n      console.debug(\"Bokeh: BokehJS plotting callback run at\", now());\n      run_inline_js();\n    });\n  }\n}(window));"
     },
     "metadata": {},
     "output_type": "display_data"
    },
    {
     "name": "stderr",
     "output_type": "stream",
     "text": [
      "Using TensorFlow backend.\n"
     ]
    }
   ],
   "source": [
    "import pandas as pd\n",
    "import numpy as np\n",
    "import nltk\n",
    "import matplotlib.pyplot as plt\n",
    "from nltk.corpus import stopwords\n",
    "from nltk import word_tokenize\n",
    "from os import path\n",
    "from PIL import Image\n",
    "from wordcloud import WordCloud, STOPWORDS, ImageColorGenerator\n",
    "import re\n",
    "from collections import Counter\n",
    "import warnings\n",
    "import pickle\n",
    "\n",
    "#Scikit Libraries\n",
    "from sklearn.preprocessing import LabelEncoder\n",
    "from sklearn.feature_extraction.text import CountVectorizer\n",
    "from sklearn.naive_bayes import MultinomialNB\n",
    "from sklearn.metrics import accuracy_score, confusion_matrix, classification_report\n",
    "from sklearn.model_selection import GridSearchCV\n",
    "from sklearn.utils import shuffle\n",
    "from sklearn.linear_model import LogisticRegression, SGDClassifier\n",
    "\n",
    "# Bokeh\n",
    "from bokeh.plotting import figure, show\n",
    "from bokeh.io import output_notebook\n",
    "from bokeh.models import ColumnDataSource, Range1d\n",
    "output_notebook()\n",
    "\n",
    "# Keras libraries\n",
    "import keras\n",
    "from keras.preprocessing.text import Tokenizer\n",
    "from keras.utils import np_utils\n",
    "from keras.models import Sequential\n",
    "from keras.layers import Dense, Dropout, Activation\n",
    "from keras.preprocessing.sequence import pad_sequences\n",
    "from keras import layers\n",
    "\n",
    "# Set the stage\n",
    "plt.rcParams['figure.figsize'] = (14.0, 10.0)\n",
    "warnings.filterwarnings('ignore')\n",
    "pd.set_option('max_colwidth', 800)"
   ]
  },
  {
   "cell_type": "markdown",
   "metadata": {},
   "source": [
    " ## Read in our data\n",
    "If you view the Data Cleaning - NYC Apartments notebook it shows how we turn our raw data into a Pandas dataframe that we use here for our model."
   ]
  },
  {
   "cell_type": "code",
   "execution_count": 2,
   "metadata": {},
   "outputs": [],
   "source": [
    "df = pd.read_csv('../../notebooks/housing_cleaned.csv')[['name', 'bedrooms']]\n",
    "df.dropna(inplace=True)"
   ]
  },
  {
   "cell_type": "markdown",
   "metadata": {},
   "source": [
    "## Sample of our data"
   ]
  },
  {
   "cell_type": "code",
   "execution_count": 3,
   "metadata": {
    "scrolled": true
   },
   "outputs": [
    {
     "data": {
      "text/html": [
       "<div>\n",
       "<style scoped>\n",
       "    .dataframe tbody tr th:only-of-type {\n",
       "        vertical-align: middle;\n",
       "    }\n",
       "\n",
       "    .dataframe tbody tr th {\n",
       "        vertical-align: top;\n",
       "    }\n",
       "\n",
       "    .dataframe thead th {\n",
       "        text-align: right;\n",
       "    }\n",
       "</style>\n",
       "<table border=\"1\" class=\"dataframe\">\n",
       "  <thead>\n",
       "    <tr style=\"text-align: right;\">\n",
       "      <th></th>\n",
       "      <th>name</th>\n",
       "      <th>bedrooms</th>\n",
       "    </tr>\n",
       "  </thead>\n",
       "  <tbody>\n",
       "    <tr>\n",
       "      <th>0</th>\n",
       "      <td>you’re in good hands...t e x t us to view bk’s best *no fee* apts</td>\n",
       "      <td>3.0</td>\n",
       "    </tr>\n",
       "    <tr>\n",
       "      <th>1</th>\n",
       "      <td>spacious 1br penthouse with deck!! near col univ!!</td>\n",
       "      <td>1.0</td>\n",
       "    </tr>\n",
       "    <tr>\n",
       "      <th>2</th>\n",
       "      <td>this is the one you’ve been looking for… call today to view</td>\n",
       "      <td>3.0</td>\n",
       "    </tr>\n",
       "    <tr>\n",
       "      <th>3</th>\n",
       "      <td>simplify your search with us**pro team w/ big inventory of no fee apts</td>\n",
       "      <td>3.0</td>\n",
       "    </tr>\n",
       "    <tr>\n",
       "      <th>4</th>\n",
       "      <td>sunny 1br in long island city. brand new renovation + no fee!</td>\n",
       "      <td>1.0</td>\n",
       "    </tr>\n",
       "    <tr>\n",
       "      <th>5</th>\n",
       "      <td>gorgeous true 1 bedroom in east village--e10/1st ave--no fee</td>\n",
       "      <td>1.0</td>\n",
       "    </tr>\n",
       "    <tr>\n",
       "      <th>6</th>\n",
       "      <td>spacious   2br just 1 block from l and m trains</td>\n",
       "      <td>2.0</td>\n",
       "    </tr>\n",
       "    <tr>\n",
       "      <th>7</th>\n",
       "      <td>beautiful renovated 3br - laundry in unit - no fee</td>\n",
       "      <td>3.0</td>\n",
       "    </tr>\n",
       "    <tr>\n",
       "      <th>8</th>\n",
       "      <td>granite countertops in this gorgeous 2br/2ba apartment!</td>\n",
       "      <td>2.0</td>\n",
       "    </tr>\n",
       "    <tr>\n",
       "      <th>9</th>\n",
       "      <td>historic loft style 1br, heat included in rent!</td>\n",
       "      <td>1.0</td>\n",
       "    </tr>\n",
       "  </tbody>\n",
       "</table>\n",
       "</div>"
      ],
      "text/plain": [
       "                                                                     name  \\\n",
       "0       you’re in good hands...t e x t us to view bk’s best *no fee* apts   \n",
       "1                      spacious 1br penthouse with deck!! near col univ!!   \n",
       "2             this is the one you’ve been looking for… call today to view   \n",
       "3  simplify your search with us**pro team w/ big inventory of no fee apts   \n",
       "4           sunny 1br in long island city. brand new renovation + no fee!   \n",
       "5            gorgeous true 1 bedroom in east village--e10/1st ave--no fee   \n",
       "6                         spacious   2br just 1 block from l and m trains   \n",
       "7                      beautiful renovated 3br - laundry in unit - no fee   \n",
       "8                 granite countertops in this gorgeous 2br/2ba apartment!   \n",
       "9                         historic loft style 1br, heat included in rent!   \n",
       "\n",
       "   bedrooms  \n",
       "0       3.0  \n",
       "1       1.0  \n",
       "2       3.0  \n",
       "3       3.0  \n",
       "4       1.0  \n",
       "5       1.0  \n",
       "6       2.0  \n",
       "7       3.0  \n",
       "8       2.0  \n",
       "9       1.0  "
      ]
     },
     "execution_count": 3,
     "metadata": {},
     "output_type": "execute_result"
    }
   ],
   "source": [
    "df.head(10)"
   ]
  },
  {
   "cell_type": "code",
   "execution_count": 4,
   "metadata": {},
   "outputs": [
    {
     "data": {
      "text/plain": [
       "(22719, 2)"
      ]
     },
     "execution_count": 4,
     "metadata": {},
     "output_type": "execute_result"
    }
   ],
   "source": [
    "df.shape"
   ]
  },
  {
   "cell_type": "markdown",
   "metadata": {},
   "source": [
    "## Create a string with all of our text data\n",
    "This is just so we can do some exploratory analysis of our text. There are methods in Keras and Scikit that do some of this for us automatically, but what fun is that?"
   ]
  },
  {
   "cell_type": "code",
   "execution_count": 5,
   "metadata": {},
   "outputs": [],
   "source": [
    "tokens = []\n",
    "for apartment in df['name']:\n",
    "    tokenized_word=word_tokenize(apartment)\n",
    "    for token in tokenized_word:\n",
    "        tokens.append(token)"
   ]
  },
  {
   "cell_type": "markdown",
   "metadata": {},
   "source": [
    "## Word Frequency\n",
    "\n",
    "### Remove Stopwords"
   ]
  },
  {
   "cell_type": "code",
   "execution_count": 6,
   "metadata": {},
   "outputs": [],
   "source": [
    "stop_words = stopwords.words('english')\n",
    "\n",
    "# Remove stop words\n",
    "tokens = [re.sub(r'[^\\w\\s]','', token) for token in tokens if token not in stop_words]\n",
    "\n",
    "# Remove short words\n",
    "tokens = [token.strip() for token in tokens if len(token) > 2]"
   ]
  },
  {
   "cell_type": "markdown",
   "metadata": {},
   "source": [
    "### Plot word frequency\n",
    "Now that we have our token list we can look at the most common words in our corpus."
   ]
  },
  {
   "cell_type": "code",
   "execution_count": 7,
   "metadata": {
    "scrolled": false
   },
   "outputs": [
    {
     "data": {
      "image/png": "[encoded data removed]",
      "text/plain": [
       "<Figure size 432x288 with 1 Axes>"
      ]
     },
     "metadata": {
      "needs_background": "light"
     },
     "output_type": "display_data"
    }
   ],
   "source": [
    "freq = nltk.FreqDist(tokens)\n",
    "freq.plot(50, cumulative=False)"
   ]
  },
  {
   "cell_type": "markdown",
   "metadata": {},
   "source": [
    "Man a lot of people in New York are mentioning the fees associated with renting an apartment! A lot of these words makes sense and are expected such as \"bedroom\", \"apartment\" and terms like \"1BR/2BR/etc\". You can also see how often people are using terms such as \"renovated\", \"new\", \"spacious\" and \"beautiful\" to really sell their listing."
   ]
  },
  {
   "cell_type": "markdown",
   "metadata": {},
   "source": [
    "## Word Cloud\n",
    "5 years ago word clouds were all the rage with NLP so we may as well do one. Below shows the a word cloud, limiting it to the top 200 words. Basically it matches our word frequency plot above in a (maybe) prettier way."
   ]
  },
  {
   "cell_type": "code",
   "execution_count": 8,
   "metadata": {
    "scrolled": false
   },
   "outputs": [
    {
     "data": {
      "image/png": "[encoded data removed]",
      "text/plain": [
       "<Figure size 432x288 with 1 Axes>"
      ]
     },
     "metadata": {
      "needs_background": "light"
     },
     "output_type": "display_data"
    }
   ],
   "source": [
    "wordcloud = WordCloud(max_words=200).generate(' '.join(tokens))\n",
    "plt.figure()\n",
    "plt.imshow(wordcloud, interpolation='bilinear')\n",
    "plt.axis('off')\n",
    "plt.show()"
   ]
  },
  {
   "cell_type": "markdown",
   "metadata": {},
   "source": [
    "## Baseline Model: Bag Of Words\n",
    "Eventually we will use Keras and a Deep Neural Network (DNN) to fit a model to our text data. However, we should establish a simpler baseline model to compare that DNN to. We will use a Bag Of Words representation of our corpus along with some standard classifiers from Scikit (LDA, Logistic Regression, Naive Bayes) to establish our baseline models. \n",
    "\n",
    "__Side Note__: [This Medium article](https://machinelearningmastery.com/gentle-introduction-bag-words-model/) is a good introduction to the Bag Of Words model for those unaware. Basically it represents our Corpus as a matrix where each feature (column) is the presence (or count) of a word, and the matrix will have a 0 for all words not in that document. It's a simple model, but a weakness is it loses context as order of the words is not taken into account. It's fairly painless to train and fit so it serves as a nice baseline.\n",
    "\n",
    "\n",
    "### Vocab Pipeline Functions\n",
    "We could use the CountVectorizer function from sklearn.feature_extration.text to automate a lot of this, but that's no fun. Thus we will write our own methods to get to our Bag Of Words representation. The following functions take our dataframe of apartment listings and output a text file with the entire vocabulary. That is, any word that is in the titles of our listings will be included. The exceptions will be any words that have a count less than our threshold count (e.g. no words with less than a count of 5). This is to prevent our feature matrix from becoming overly sparse."
   ]
  },
  {
   "cell_type": "code",
   "execution_count": 9,
   "metadata": {},
   "outputs": [],
   "source": [
    "# Get all the text from the apartment listings\n",
    "def load_text(dataframe):\n",
    "    text = ' '.join(dataframe['name'].tolist())\n",
    "    \n",
    "    return text"
   ]
  },
  {
   "cell_type": "code",
   "execution_count": 10,
   "metadata": {},
   "outputs": [],
   "source": [
    "# Clean the tokens (remove stopwords, punctuation, etc.)\n",
    "def clean_text(input_text):\n",
    "    \n",
    "    # Lower text\n",
    "    input_text = input_text.lower()\n",
    "    \n",
    "    # Tokenize text\n",
    "    tokens = word_tokenize(input_text)\n",
    "\n",
    "    # Remove stopwords\n",
    "    stop_words = stopwords.words('english')\n",
    "    tokens = [re.sub(r'[^\\w\\s]|_','', token) for token in tokens if token not in stop_words]\n",
    "\n",
    "    # Remove short words\n",
    "    tokens = [token.strip() for token in tokens if len(token) > 2]\n",
    "    \n",
    "    return tokens"
   ]
  },
  {
   "cell_type": "code",
   "execution_count": 11,
   "metadata": {},
   "outputs": [],
   "source": [
    "# Remove words that don't have at least a minimum number of occurences\n",
    "def clean_text_min_words(text, min_occurences=3):\n",
    "    vocab = Counter(text)\n",
    "    vocab_with_min_occurrences = [word for word, count \n",
    "                                      in vocab.items() if count >= min_occurences]\n",
    "    \n",
    "    return vocab_with_min_occurrences"
   ]
  },
  {
   "cell_type": "code",
   "execution_count": 12,
   "metadata": {},
   "outputs": [],
   "source": [
    "# Export our vocab\n",
    "def export_vocab(text, filename):\n",
    "    text_data = '\\n'.join(text)\n",
    "    \n",
    "    with open(filename, 'w', encoding='utf-8') as write_file:\n",
    "        write_file.write(text_data)\n",
    "        write_file.close()"
   ]
  },
  {
   "cell_type": "markdown",
   "metadata": {},
   "source": [
    "### Text Data  Pipeline\n",
    "The above functions establish our vocabulary: a unique set of words that are included in our listings. We also need functions to clean an individual listing. These functions will remove any words not in the vocab above and create a vectorized representation of the apartment listing. We can then run this over our entire dataframe to get a bag of words representation of our entire dataset."
   ]
  },
  {
   "cell_type": "code",
   "execution_count": 13,
   "metadata": {},
   "outputs": [],
   "source": [
    "# Clean an individual string\n",
    "def individual_listing_text(line, vocab):\n",
    "    \n",
    "    # Clean the line of text\n",
    "    clean_line = clean_text(line)\n",
    "    \n",
    "    # Keep only words in vocab\n",
    "    clean_line = [token for token in clean_line if token in vocab]\n",
    "    \n",
    "    # Put it back together\n",
    "    return ' '.join(clean_line)"
   ]
  },
  {
   "cell_type": "code",
   "execution_count": 14,
   "metadata": {},
   "outputs": [],
   "source": [
    "# Clean an entire dataframe\n",
    "def process_all_lines(dataframe, vocab):\n",
    "    lines = []\n",
    "    for listing in dataframe['name']:\n",
    "        cleaned_text = individual_listing_text(listing, vocab)\n",
    "        lines.append(cleaned_text)\n",
    "    \n",
    "    # Output is a list where each item is one listing where the text is cleaned\n",
    "    return lines"
   ]
  },
  {
   "cell_type": "code",
   "execution_count": 15,
   "metadata": {},
   "outputs": [],
   "source": [
    "# Create our train and test sets\n",
    "def create_train_and_test(dataframe, train_portion=.85, validation_portion=.05):\n",
    "    \n",
    "    # Shuffle our data\n",
    "    dataframe = shuffle(dataframe)\n",
    "    response = dataframe['bedrooms'].tolist()\n",
    "    \n",
    "    # Split our training and test splits\n",
    "    train_number_of_rows = int(train_portion * len(dataframe))\n",
    "    validation_number_of_rows = int(validation_portion * len(dataframe))\n",
    "    \n",
    "    X_train = dataframe[0:train_number_of_rows]\n",
    "    X_validation = dataframe[train_number_of_rows:(train_number_of_rows+validation_number_of_rows)]\n",
    "    X_test = dataframe[(train_number_of_rows+validation_number_of_rows):]\n",
    "    y_train = response[0:train_number_of_rows]\n",
    "    y_validation = response[train_number_of_rows:(train_number_of_rows+validation_number_of_rows)]\n",
    "    y_test = response[(train_number_of_rows+validation_number_of_rows):]\n",
    "    \n",
    "    return X_train, X_validation, X_test, y_train, y_validation, y_test\n",
    "\n",
    "def tokenize_train_and_test(X_train, X_validation, X_test, vocab, mode='count'):\n",
    "\n",
    "    # Bring in Keras Tokenizer\n",
    "    tokenizer = Tokenizer()\n",
    "    \n",
    "    # Tokenize the data\n",
    "    X_train_processed = process_all_lines(X_train, vocab)\n",
    "    X_validation_processed = process_all_lines(X_validation, vocab)\n",
    "    X_test_processed = process_all_lines(X_test, vocab)\n",
    "    tokenizer.fit_on_texts(X_train_processed)\n",
    "    pickle.dump(tokenizer, open('log_reg_tokenizer.pickle', 'wb'))\n",
    "    X_train_tokenized = tokenizer.texts_to_matrix(X_train_processed, mode=mode)\n",
    "    X_validation_tokenized = tokenizer.texts_to_matrix(X_validation_processed, mode=mode)\n",
    "    X_test_tokenized = tokenizer.texts_to_matrix(X_test_processed, mode=mode)\n",
    "    \n",
    "    return X_train_tokenized, X_validation_tokenized, X_test_tokenized"
   ]
  },
  {
   "cell_type": "markdown",
   "metadata": {},
   "source": [
    "### Create our train and test sets"
   ]
  },
  {
   "cell_type": "code",
   "execution_count": 16,
   "metadata": {},
   "outputs": [],
   "source": [
    "# Split the data into train and test\n",
    "X_train, X_validation, X_test, y_train, y_validation, y_test = create_train_and_test(df, .8, .1)\n",
    "# X_test.to_csv('X_test_lr.csv')\n",
    "\n",
    "# Create our vocab based on our training data\n",
    "text_data = load_text(X_train)\n",
    "clean_text_data = clean_text(text_data)\n",
    "vocab = clean_text_min_words(clean_text_data, 5)\n",
    "export_vocab(vocab, 'vocab.txt')\n",
    "\n",
    "# Tokenize X_train and X_test\n",
    "X_train, X_validation, X_test = tokenize_train_and_test(X_train, X_validation, X_test, vocab=vocab)"
   ]
  },
  {
   "cell_type": "code",
   "execution_count": 17,
   "metadata": {
    "scrolled": true
   },
   "outputs": [
    {
     "name": "stdout",
     "output_type": "stream",
     "text": [
      "X_Train Size: (18175, 1694)\n",
      "X_Validation Size: (2271, 1694)\n",
      "X_Test Size: (2273, 1694)\n",
      "y_train Size: 18175\n",
      "y_validation Size: 2271\n",
      "y_test Size: 2273\n"
     ]
    }
   ],
   "source": [
    "# Check sizes\n",
    "print ((\"\"\"X_Train Size: {}\\nX_Validation Size: {}\\nX_Test Size: {}\\ny_train Size: {}\\ny_validation Size: {}\\ny_test Size: {}\"\"\"\n",
    "        .format(X_train.shape, X_validation.shape, X_test.shape,\n",
    "                len(y_train), len(y_validation), len(y_test))))"
   ]
  },
  {
   "cell_type": "markdown",
   "metadata": {},
   "source": [
    "## Fit Baseline Models\n",
    "Now that our data is in a usable format we can fit a few baseline models. The pattern here will be the same for 3 different classifiers (Naive Bayes, Logistic Regression and LDA): \n",
    "\n",
    "- Define classifier\n",
    "- Perform a Grid Search over that models important tuning parameters\n",
    "- Fit with the best_estimator_\n",
    "- Output a variety of scoring metrics and the accuracy\n",
    "\n",
    "### Naive Bayes"
   ]
  },
  {
   "cell_type": "code",
   "execution_count": 18,
   "metadata": {},
   "outputs": [
    {
     "name": "stdout",
     "output_type": "stream",
     "text": [
      "------------------\n",
      "              f1-score  precision    recall  support\n",
      "0.0           0.907563   0.972973  0.850394    127.0\n",
      "1.0           0.708151   0.634223  0.801587    504.0\n",
      "2.0           0.687084   0.708791  0.666667    774.0\n",
      "3.0           0.690751   0.734255  0.652115    733.0\n",
      "4.0           0.609442   0.586777  0.633929    112.0\n",
      "5.0           0.687500   0.687500  0.687500     16.0\n",
      "6.0           0.833333   0.714286  1.000000      5.0\n",
      "micro avg     0.701453   0.701453  0.701453   2271.0\n",
      "macro avg     0.731975   0.719829  0.756027   2271.0\n",
      "weighted avg  0.701769   0.709080  0.701453   2271.0\n",
      "------------------\n",
      "Achieved an accuracy of: 0.7014531043593131\n",
      "------------------\n",
      "Best Model: MultinomialNB(alpha=0.01, class_prior=None, fit_prior=True)\n"
     ]
    }
   ],
   "source": [
    "# Define model\n",
    "clf = MultinomialNB()\n",
    "\n",
    "# Create Grod\n",
    "grid = {'alpha': [.0001, .001, .01, .1, 1, 10, 100],\n",
    "       'fit_prior': [True, False]}\n",
    "\n",
    "# Fit the model\n",
    "nb_grid_search = GridSearchCV(clf, \n",
    "                           param_grid=grid, \n",
    "                           cv=5)\n",
    "\n",
    "nb_grid_search.fit(X_train, y_train)\n",
    "\n",
    "# Predict!\n",
    "nb_val_preds = nb_grid_search.predict(X_validation)\n",
    "nb_accuracy = accuracy_score(nb_val_preds, y_validation)\n",
    "report = classification_report(nb_val_preds, y_validation, output_dict=True)\n",
    "report_df = pd.DataFrame(report).transpose()\n",
    "print ('------------------')\n",
    "print(report_df)\n",
    "print ('------------------')\n",
    "print ('Achieved an accuracy of: {}'.format(nb_accuracy))\n",
    "print ('------------------')\n",
    "print ('Best Model: {}'.format(nb_grid_search.best_estimator_))"
   ]
  },
  {
   "cell_type": "markdown",
   "metadata": {},
   "source": [
    "#### Final Test Set"
   ]
  },
  {
   "cell_type": "code",
   "execution_count": 19,
   "metadata": {},
   "outputs": [
    {
     "data": {
      "text/plain": [
       "0.7030356357237132"
      ]
     },
     "execution_count": 19,
     "metadata": {},
     "output_type": "execute_result"
    }
   ],
   "source": [
    "nb_test_preds = nb_grid_search.predict(X_test)\n",
    "nb_test_accuracy = accuracy_score(nb_test_preds, y_test)\n",
    "nb_test_accuracy"
   ]
  },
  {
   "cell_type": "markdown",
   "metadata": {},
   "source": [
    "### Logistic Regression"
   ]
  },
  {
   "cell_type": "code",
   "execution_count": 20,
   "metadata": {
    "scrolled": false
   },
   "outputs": [
    {
     "name": "stdout",
     "output_type": "stream",
     "text": [
      "------------------\n",
      "              f1-score  precision    recall  support\n",
      "0.0           0.986425   0.981982  0.990909    110.0\n",
      "1.0           0.790024   0.770801  0.810231    606.0\n",
      "2.0           0.761204   0.781593  0.741851    767.0\n",
      "3.0           0.774924   0.788018  0.762259    673.0\n",
      "4.0           0.759259   0.677686  0.863158     95.0\n",
      "5.0           0.800000   0.750000  0.857143     14.0\n",
      "6.0           0.923077   0.857143  1.000000      6.0\n",
      "micro avg     0.784676   0.784676  0.784676   2271.0\n",
      "macro avg     0.827845   0.801032  0.860793   2271.0\n",
      "weighted avg  0.784455   0.785982  0.784676   2271.0\n",
      "------------------\n",
      "Achieved an accuracy of: 0.7846763540290621\n",
      "------------------\n",
      "Best Model: LogisticRegression(C=100, class_weight=None, dual=False, fit_intercept=True,\n",
      "          intercept_scaling=1, max_iter=100, multi_class='warn',\n",
      "          n_jobs=None, penalty='l2', random_state=None, solver='warn',\n",
      "          tol=0.0001, verbose=0, warm_start=False)\n"
     ]
    }
   ],
   "source": [
    "# Define model\n",
    "clf = LogisticRegression()\n",
    "\n",
    "# Create Grod\n",
    "grid = {'penalty': ['l1', 'l2'],\n",
    "       'C': [.1, 1, 10, 100, 1000, 10000]}\n",
    "\n",
    "# Fit the model\n",
    "lr_grid_search = GridSearchCV(clf, \n",
    "                           param_grid=grid, \n",
    "                           cv=5)\n",
    "\n",
    "lr_grid_search.fit(X_train, y_train)\n",
    "\n",
    "# Predict!\n",
    "lr_val_preds = lr_grid_search.predict(X_validation)\n",
    "lr_accuracy = accuracy_score(lr_val_preds, y_validation)\n",
    "report = classification_report(lr_val_preds, y_validation, output_dict=True)\n",
    "report_df = pd.DataFrame(report).transpose()\n",
    "print ('------------------')\n",
    "print(report_df)\n",
    "print ('------------------')\n",
    "print ('Achieved an accuracy of: {}'.format(lr_accuracy))\n",
    "print ('------------------')\n",
    "print ('Best Model: {}'.format(lr_grid_search.best_estimator_))"
   ]
  },
  {
   "cell_type": "markdown",
   "metadata": {},
   "source": [
    "#### Final Test Set"
   ]
  },
  {
   "cell_type": "code",
   "execution_count": 21,
   "metadata": {
    "scrolled": true
   },
   "outputs": [
    {
     "data": {
      "text/plain": [
       "0.796304443466784"
      ]
     },
     "execution_count": 21,
     "metadata": {},
     "output_type": "execute_result"
    }
   ],
   "source": [
    "lr_test_preds = lr_grid_search.predict(X_test)\n",
    "lr_test_accuracy = accuracy_score(lr_test_preds, y_test)\n",
    "lr_test_accuracy"
   ]
  },
  {
   "cell_type": "markdown",
   "metadata": {},
   "source": [
    "#### Pickle model"
   ]
  },
  {
   "cell_type": "code",
   "execution_count": 22,
   "metadata": {},
   "outputs": [],
   "source": [
    "pickle.dump(lr_grid_search, open('log_regression.pickle', 'wb'))"
   ]
  },
  {
   "cell_type": "markdown",
   "metadata": {},
   "source": [
    "### LDA"
   ]
  },
  {
   "cell_type": "code",
   "execution_count": 23,
   "metadata": {
    "scrolled": false
   },
   "outputs": [
    {
     "name": "stdout",
     "output_type": "stream",
     "text": [
      "------------------\n",
      "              f1-score  precision    recall  support\n",
      "0.0           0.948276   0.990991  0.909091    121.0\n",
      "1.0           0.741392   0.794349  0.695055    728.0\n",
      "2.0           0.738567   0.743132  0.734057    737.0\n",
      "3.0           0.743842   0.695853  0.798942    567.0\n",
      "4.0           0.733945   0.661157  0.824742     97.0\n",
      "5.0           0.750000   0.750000  0.750000     16.0\n",
      "6.0           0.833333   0.714286  1.000000      5.0\n",
      "micro avg     0.751651   0.751651  0.751651   2271.0\n",
      "macro avg     0.784194   0.764252  0.815984   2271.0\n",
      "weighted avg  0.752055   0.757435  0.751651   2271.0\n",
      "------------------\n",
      "Achieved an accuracy of: 0.7516512549537648\n",
      "------------------\n",
      "Best Model: SGDClassifier(alpha=1e-05, average=False, class_weight=None,\n",
      "       early_stopping=False, epsilon=0.1, eta0=0.0, fit_intercept=True,\n",
      "       l1_ratio=0.15, learning_rate='optimal', loss='hinge', max_iter=None,\n",
      "       n_iter=None, n_iter_no_change=5, n_jobs=None, penalty='l1',\n",
      "       power_t=0.5, random_state=None, shuffle=True, tol=None,\n",
      "       validation_fraction=0.1, verbose=0, warm_start=False)\n"
     ]
    }
   ],
   "source": [
    "# Define model\n",
    "clf = SGDClassifier()\n",
    "\n",
    "# Create Grod\n",
    "grid = {'loss': ['hinge', 'log', 'modified_huber'],\n",
    "        'penalty': ['l1', 'l2'],\n",
    "        'alpha': [.00001, .0001, .001, .01, ]}\n",
    "\n",
    "# Fit the model\n",
    "lda_grid_search = GridSearchCV(clf, \n",
    "                           param_grid=grid, \n",
    "                           cv=5)\n",
    "\n",
    "lda_grid_search.fit(X_train, y_train)\n",
    "\n",
    "# Predict!\n",
    "lda_val_preds = lda_grid_search.predict(X_validation)\n",
    "lda_accuracy = accuracy_score(lda_val_preds, y_validation)\n",
    "report = classification_report(lda_val_preds, y_validation, output_dict=True)\n",
    "report_df = pd.DataFrame(report).transpose()\n",
    "print ('------------------')\n",
    "print(report_df)\n",
    "print ('------------------')\n",
    "print ('Achieved an accuracy of: {}'.format(lda_accuracy))\n",
    "print ('------------------')\n",
    "print ('Best Model: {}'.format(lda_grid_search.best_estimator_))"
   ]
  },
  {
   "cell_type": "markdown",
   "metadata": {},
   "source": [
    "#### Final Test Set"
   ]
  },
  {
   "cell_type": "code",
   "execution_count": 24,
   "metadata": {},
   "outputs": [
    {
     "data": {
      "text/plain": [
       "0.7558293004839419"
      ]
     },
     "execution_count": 24,
     "metadata": {},
     "output_type": "execute_result"
    }
   ],
   "source": [
    "lda_test_preds = lda_grid_search.predict(X_test)\n",
    "lda_test_accuracy = accuracy_score(lda_test_preds, y_test)\n",
    "lda_test_accuracy"
   ]
  },
  {
   "cell_type": "markdown",
   "metadata": {},
   "source": [
    "## Baseline Model Overview"
   ]
  },
  {
   "cell_type": "code",
   "execution_count": 25,
   "metadata": {},
   "outputs": [
    {
     "data": {
      "text/html": [
       "\n",
       "\n",
       "\n",
       "\n",
       "\n",
       "\n",
       "  <div class=\"bk-root\" id=\"c2418168-6d58-4fce-a4a7-395623dba52b\" data-root-id=\"1003\"></div>\n"
      ]
     },
     "metadata": {},
     "output_type": "display_data"
    },
    {
     "data": {
      "application/javascript": [
       "(function(root) {\n",
       "  function embed_document(root) {\n",
       "    \n",
       "  var docs_json = {\"430ed2e6-b694-4931-9378-893b1c5be784\":{\"roots\":{\"references\":[{\"attributes\":{\"below\":[{\"id\":\"1012\",\"type\":\"LinearAxis\"}],\"center\":[{\"id\":\"1016\",\"type\":\"Grid\"},{\"id\":\"1020\",\"type\":\"Grid\"}],\"left\":[{\"id\":\"1017\",\"type\":\"CategoricalAxis\"}],\"renderers\":[{\"id\":\"1025\",\"type\":\"GlyphRenderer\"}],\"sizing_mode\":\"stretch_width\",\"title\":{\"id\":\"1028\",\"type\":\"Title\"},\"toolbar\":{\"id\":\"1021\",\"type\":\"Toolbar\"},\"toolbar_location\":null,\"x_range\":{\"id\":\"1027\",\"type\":\"Range1d\"},\"x_scale\":{\"id\":\"1008\",\"type\":\"LinearScale\"},\"y_range\":{\"id\":\"1006\",\"type\":\"FactorRange\"},\"y_scale\":{\"id\":\"1010\",\"type\":\"CategoricalScale\"}},\"id\":\"1003\",\"subtype\":\"Figure\",\"type\":\"Plot\"},{\"attributes\":{\"formatter\":{\"id\":\"1032\",\"type\":\"CategoricalTickFormatter\"},\"ticker\":{\"id\":\"1018\",\"type\":\"CategoricalTicker\"}},\"id\":\"1017\",\"type\":\"CategoricalAxis\"},{\"attributes\":{\"active_drag\":\"auto\",\"active_inspect\":\"auto\",\"active_multi\":null,\"active_scroll\":\"auto\",\"active_tap\":\"auto\"},\"id\":\"1021\",\"type\":\"Toolbar\"},{\"attributes\":{},\"id\":\"1034\",\"type\":\"UnionRenderers\"},{\"attributes\":{},\"id\":\"1010\",\"type\":\"CategoricalScale\"},{\"attributes\":{\"ticker\":{\"id\":\"1013\",\"type\":\"BasicTicker\"}},\"id\":\"1016\",\"type\":\"Grid\"},{\"attributes\":{\"dimension\":1,\"ticker\":{\"id\":\"1018\",\"type\":\"CategoricalTicker\"}},\"id\":\"1020\",\"type\":\"Grid\"},{\"attributes\":{},\"id\":\"1018\",\"type\":\"CategoricalTicker\"},{\"attributes\":{},\"id\":\"1008\",\"type\":\"LinearScale\"},{\"attributes\":{},\"id\":\"1035\",\"type\":\"Selection\"},{\"attributes\":{\"data_source\":{\"id\":\"1002\",\"type\":\"ColumnDataSource\"},\"glyph\":{\"id\":\"1023\",\"type\":\"HBar\"},\"hover_glyph\":null,\"muted_glyph\":null,\"nonselection_glyph\":{\"id\":\"1024\",\"type\":\"HBar\"},\"selection_glyph\":null,\"view\":{\"id\":\"1026\",\"type\":\"CDSView\"}},\"id\":\"1025\",\"type\":\"GlyphRenderer\"},{\"attributes\":{\"callback\":null,\"data\":{\"Accuracy\":{\"__ndarray__\":\"rWPrlkR/5j+dLct0U3vpP5/83e3AL+g/\",\"dtype\":\"float64\",\"shape\":[3]},\"Model\":[\"Naive Bayes\",\"Logistic Regression\",\"LDA\"],\"index\":[0,1,2]},\"selected\":{\"id\":\"1035\",\"type\":\"Selection\"},\"selection_policy\":{\"id\":\"1034\",\"type\":\"UnionRenderers\"}},\"id\":\"1002\",\"type\":\"ColumnDataSource\"},{\"attributes\":{\"source\":{\"id\":\"1002\",\"type\":\"ColumnDataSource\"}},\"id\":\"1026\",\"type\":\"CDSView\"},{\"attributes\":{\"callback\":null,\"end\":0.8361196656401232},\"id\":\"1027\",\"type\":\"Range1d\"},{\"attributes\":{},\"id\":\"1031\",\"type\":\"BasicTickFormatter\"},{\"attributes\":{\"fill_alpha\":{\"value\":0.1},\"fill_color\":{\"value\":\"#1f77b4\"},\"height\":{\"value\":0.5},\"line_alpha\":{\"value\":0.1},\"line_color\":{\"value\":\"#1f77b4\"},\"right\":{\"field\":\"Accuracy\"},\"y\":{\"field\":\"Model\"}},\"id\":\"1024\",\"type\":\"HBar\"},{\"attributes\":{\"text\":\"\"},\"id\":\"1028\",\"type\":\"Title\"},{\"attributes\":{},\"id\":\"1013\",\"type\":\"BasicTicker\"},{\"attributes\":{\"callback\":null,\"factors\":[\"Naive Bayes\",\"Logistic Regression\",\"LDA\"]},\"id\":\"1006\",\"type\":\"FactorRange\"},{\"attributes\":{},\"id\":\"1032\",\"type\":\"CategoricalTickFormatter\"},{\"attributes\":{\"fill_color\":{\"value\":\"#1f77b4\"},\"height\":{\"value\":0.5},\"line_color\":{\"value\":\"#1f77b4\"},\"right\":{\"field\":\"Accuracy\"},\"y\":{\"field\":\"Model\"}},\"id\":\"1023\",\"type\":\"HBar\"},{\"attributes\":{\"formatter\":{\"id\":\"1031\",\"type\":\"BasicTickFormatter\"},\"ticker\":{\"id\":\"1013\",\"type\":\"BasicTicker\"}},\"id\":\"1012\",\"type\":\"LinearAxis\"}],\"root_ids\":[\"1003\"]},\"title\":\"Bokeh Application\",\"version\":\"1.2.0\"}};\n",
       "  var render_items = [{\"docid\":\"430ed2e6-b694-4931-9378-893b1c5be784\",\"roots\":{\"1003\":\"c2418168-6d58-4fce-a4a7-395623dba52b\"}}];\n",
       "  root.Bokeh.embed.embed_items_notebook(docs_json, render_items);\n",
       "\n",
       "  }\n",
       "  if (root.Bokeh !== undefined) {\n",
       "    embed_document(root);\n",
       "  } else {\n",
       "    var attempts = 0;\n",
       "    var timer = setInterval(function(root) {\n",
       "      if (root.Bokeh !== undefined) {\n",
       "        embed_document(root);\n",
       "        clearInterval(timer);\n",
       "      }\n",
       "      attempts++;\n",
       "      if (attempts > 100) {\n",
       "        console.log(\"Bokeh: ERROR: Unable to run BokehJS code because BokehJS library is missing\");\n",
       "        clearInterval(timer);\n",
       "      }\n",
       "    }, 10, root)\n",
       "  }\n",
       "})(window);"
      ],
      "application/vnd.bokehjs_exec.v0+json": ""
     },
     "metadata": {
      "application/vnd.bokehjs_exec.v0+json": {
       "id": "1003"
      }
     },
     "output_type": "display_data"
    }
   ],
   "source": [
    "models = ['Naive Bayes', 'Logistic Regression', 'LDA']\n",
    "accuracies = [nb_test_accuracy, lr_test_accuracy, lda_test_accuracy]\n",
    "baseline_df = pd.DataFrame({'Model':models, 'Accuracy': accuracies})\n",
    "\n",
    "# Create Figure\n",
    "source = ColumnDataSource(baseline_df)\n",
    "p = figure(sizing_mode='stretch_width', y_range=baseline_df['Model'], tools=[], toolbar_location=None)\n",
    "p.hbar(y='Model', right='Accuracy', height=.5, source=source)\n",
    "p.x_range = Range1d(0, baseline_df['Accuracy'].max()*1.05)\n",
    "show(p)"
   ]
  },
  {
   "cell_type": "markdown",
   "metadata": {},
   "source": [
    "So far Logistic Regression is our best model with an accuracy of around 77%, which isn't bad given how quickly we were able to build this model."
   ]
  },
  {
   "cell_type": "markdown",
   "metadata": {},
   "source": [
    "## Keras - Neural Network\n",
    "Let's see if one of those fancy schmancy deep neural networks that all the kids are raving about these days can out perform our traditional models. As of now our old friend Logistic Regression is our best model at an accuracy of around 80%. First we need to encode our response so it's in the proper format for Keras. The previous models could take a 1 dimensional vector but Keras requires needs a response matrix of N x C where N is the number of rows and C is the number of classes. Basically we need to one hot encode our response.\n",
    "\n",
    "### Encode Response"
   ]
  },
  {
   "cell_type": "code",
   "execution_count": 26,
   "metadata": {},
   "outputs": [
    {
     "data": {
      "text/plain": [
       "(18175, 7)"
      ]
     },
     "execution_count": 26,
     "metadata": {},
     "output_type": "execute_result"
    }
   ],
   "source": [
    "# Train\n",
    "encoder = LabelEncoder()\n",
    "encoder.fit(y_train)\n",
    "y_train_encoded = encoder.transform(y_train)\n",
    "y_train_encoded = np_utils.to_categorical(y_train_encoded)\n",
    "\n",
    "# Validation\n",
    "# encoder = LabelEncoder()\n",
    "encoder.fit(y_validation)\n",
    "y_validation_encoded = encoder.transform(y_validation)\n",
    "y_validation_encoded = np_utils.to_categorical(y_validation_encoded)\n",
    "\n",
    "# Test\n",
    "# encoder = LabelEncoder()\n",
    "encoder.fit(y_test)\n",
    "y_test_encoded = encoder.transform(y_test)\n",
    "y_test_encoded = np_utils.to_categorical(y_test_encoded)\n",
    "\n",
    "y_train_encoded.shape"
   ]
  },
  {
   "cell_type": "code",
   "execution_count": 27,
   "metadata": {},
   "outputs": [
    {
     "data": {
      "text/plain": [
       "(18175, 1694)"
      ]
     },
     "execution_count": 27,
     "metadata": {},
     "output_type": "execute_result"
    }
   ],
   "source": [
    "X_train.shape"
   ]
  },
  {
   "cell_type": "markdown",
   "metadata": {},
   "source": [
    "### Create our Neural Network Model"
   ]
  },
  {
   "cell_type": "code",
   "execution_count": 28,
   "metadata": {},
   "outputs": [
    {
     "name": "stdout",
     "output_type": "stream",
     "text": [
      "_________________________________________________________________\n",
      "Layer (type)                 Output Shape              Param #   \n",
      "=================================================================\n",
      "dense_1 (Dense)              (None, 512)               867840    \n",
      "_________________________________________________________________\n",
      "activation_1 (Activation)    (None, 512)               0         \n",
      "_________________________________________________________________\n",
      "dropout_1 (Dropout)          (None, 512)               0         \n",
      "_________________________________________________________________\n",
      "dense_2 (Dense)              (None, 256)               131328    \n",
      "_________________________________________________________________\n",
      "activation_2 (Activation)    (None, 256)               0         \n",
      "_________________________________________________________________\n",
      "dropout_2 (Dropout)          (None, 256)               0         \n",
      "_________________________________________________________________\n",
      "dense_3 (Dense)              (None, 128)               32896     \n",
      "_________________________________________________________________\n",
      "activation_3 (Activation)    (None, 128)               0         \n",
      "_________________________________________________________________\n",
      "dropout_3 (Dropout)          (None, 128)               0         \n",
      "_________________________________________________________________\n",
      "dense_4 (Dense)              (None, 64)                8256      \n",
      "_________________________________________________________________\n",
      "activation_4 (Activation)    (None, 64)                0         \n",
      "_________________________________________________________________\n",
      "dropout_4 (Dropout)          (None, 64)                0         \n",
      "_________________________________________________________________\n",
      "dense_5 (Dense)              (None, 6)                 390       \n",
      "_________________________________________________________________\n",
      "activation_5 (Activation)    (None, 6)                 0         \n",
      "=================================================================\n",
      "Total params: 1,040,710\n",
      "Trainable params: 1,040,710\n",
      "Non-trainable params: 0\n",
      "_________________________________________________________________\n"
     ]
    }
   ],
   "source": [
    "input_dim = X_train.shape[1]\n",
    "model = Sequential()\n",
    "model.add(Dense(512, input_dim=input_dim, activation='relu'))\n",
    "model.add(Activation('relu'))\n",
    "model.add(Dropout(.5))\n",
    "model.add(Dense(256, input_dim=input_dim, activation='relu'))\n",
    "model.add(Activation('relu'))\n",
    "model.add(Dropout(.5))\n",
    "model.add(Dense(128, input_dim=input_dim, activation='relu'))\n",
    "model.add(Activation('relu'))\n",
    "model.add(Dropout(.5))\n",
    "model.add(Dense(64, input_dim=input_dim, activation='relu'))\n",
    "model.add(Activation('relu'))\n",
    "model.add(Dropout(.5))\n",
    "model.add(Dense(6))\n",
    "model.add(Activation('softmax'))\n",
    "model.compile(loss='categorical_crossentropy',\n",
    "              optimizer='adam',\n",
    "              metrics=['categorical_accuracy'])\n",
    "model.summary()"
   ]
  },
  {
   "cell_type": "markdown",
   "metadata": {},
   "source": [
    "### Fit Model"
   ]
  },
  {
   "cell_type": "code",
   "execution_count": 29,
   "metadata": {
    "scrolled": true
   },
   "outputs": [
    {
     "ename": "ValueError",
     "evalue": "Error when checking target: expected activation_5 to have shape (6,) but got array with shape (7,)",
     "output_type": "error",
     "traceback": [
      "\u001b[1;31m---------------------------------------------------------------------------\u001b[0m",
      "\u001b[1;31mValueError\u001b[0m                                Traceback (most recent call last)",
      "\u001b[1;32m<ipython-input-29-3d8a431b42a7>\u001b[0m in \u001b[0;36m<module>\u001b[1;34m\u001b[0m\n\u001b[0;32m      3\u001b[0m                    \u001b[0mverbose\u001b[0m\u001b[1;33m=\u001b[0m\u001b[1;32mTrue\u001b[0m\u001b[1;33m,\u001b[0m\u001b[1;33m\u001b[0m\u001b[1;33m\u001b[0m\u001b[0m\n\u001b[0;32m      4\u001b[0m                    \u001b[0mvalidation_data\u001b[0m\u001b[1;33m=\u001b[0m\u001b[1;33m(\u001b[0m\u001b[0mX_validation\u001b[0m\u001b[1;33m,\u001b[0m \u001b[0my_validation_encoded\u001b[0m\u001b[1;33m)\u001b[0m\u001b[1;33m,\u001b[0m\u001b[1;33m\u001b[0m\u001b[1;33m\u001b[0m\u001b[0m\n\u001b[1;32m----> 5\u001b[1;33m                    batch_size=32)\n\u001b[0m",
      "\u001b[1;32mc:\\users\\shawncochran\\appdata\\local\\programs\\python\\python36-64\\lib\\site-packages\\keras\\engine\\training.py\u001b[0m in \u001b[0;36mfit\u001b[1;34m(self, x, y, batch_size, epochs, verbose, callbacks, validation_split, validation_data, shuffle, class_weight, sample_weight, initial_epoch, steps_per_epoch, validation_steps, **kwargs)\u001b[0m\n\u001b[0;32m    950\u001b[0m             \u001b[0msample_weight\u001b[0m\u001b[1;33m=\u001b[0m\u001b[0msample_weight\u001b[0m\u001b[1;33m,\u001b[0m\u001b[1;33m\u001b[0m\u001b[1;33m\u001b[0m\u001b[0m\n\u001b[0;32m    951\u001b[0m             \u001b[0mclass_weight\u001b[0m\u001b[1;33m=\u001b[0m\u001b[0mclass_weight\u001b[0m\u001b[1;33m,\u001b[0m\u001b[1;33m\u001b[0m\u001b[1;33m\u001b[0m\u001b[0m\n\u001b[1;32m--> 952\u001b[1;33m             batch_size=batch_size)\n\u001b[0m\u001b[0;32m    953\u001b[0m         \u001b[1;31m# Prepare validation data.\u001b[0m\u001b[1;33m\u001b[0m\u001b[1;33m\u001b[0m\u001b[1;33m\u001b[0m\u001b[0m\n\u001b[0;32m    954\u001b[0m         \u001b[0mdo_validation\u001b[0m \u001b[1;33m=\u001b[0m \u001b[1;32mFalse\u001b[0m\u001b[1;33m\u001b[0m\u001b[1;33m\u001b[0m\u001b[0m\n",
      "\u001b[1;32mc:\\users\\shawncochran\\appdata\\local\\programs\\python\\python36-64\\lib\\site-packages\\keras\\engine\\training.py\u001b[0m in \u001b[0;36m_standardize_user_data\u001b[1;34m(self, x, y, sample_weight, class_weight, check_array_lengths, batch_size)\u001b[0m\n\u001b[0;32m    787\u001b[0m                 \u001b[0mfeed_output_shapes\u001b[0m\u001b[1;33m,\u001b[0m\u001b[1;33m\u001b[0m\u001b[1;33m\u001b[0m\u001b[0m\n\u001b[0;32m    788\u001b[0m                 \u001b[0mcheck_batch_axis\u001b[0m\u001b[1;33m=\u001b[0m\u001b[1;32mFalse\u001b[0m\u001b[1;33m,\u001b[0m  \u001b[1;31m# Don't enforce the batch size.\u001b[0m\u001b[1;33m\u001b[0m\u001b[1;33m\u001b[0m\u001b[0m\n\u001b[1;32m--> 789\u001b[1;33m                 exception_prefix='target')\n\u001b[0m\u001b[0;32m    790\u001b[0m \u001b[1;33m\u001b[0m\u001b[0m\n\u001b[0;32m    791\u001b[0m             \u001b[1;31m# Generate sample-wise weight values given the `sample_weight` and\u001b[0m\u001b[1;33m\u001b[0m\u001b[1;33m\u001b[0m\u001b[1;33m\u001b[0m\u001b[0m\n",
      "\u001b[1;32mc:\\users\\shawncochran\\appdata\\local\\programs\\python\\python36-64\\lib\\site-packages\\keras\\engine\\training_utils.py\u001b[0m in \u001b[0;36mstandardize_input_data\u001b[1;34m(data, names, shapes, check_batch_axis, exception_prefix)\u001b[0m\n\u001b[0;32m    136\u001b[0m                             \u001b[1;34m': expected '\u001b[0m \u001b[1;33m+\u001b[0m \u001b[0mnames\u001b[0m\u001b[1;33m[\u001b[0m\u001b[0mi\u001b[0m\u001b[1;33m]\u001b[0m \u001b[1;33m+\u001b[0m \u001b[1;34m' to have shape '\u001b[0m \u001b[1;33m+\u001b[0m\u001b[1;33m\u001b[0m\u001b[1;33m\u001b[0m\u001b[0m\n\u001b[0;32m    137\u001b[0m                             \u001b[0mstr\u001b[0m\u001b[1;33m(\u001b[0m\u001b[0mshape\u001b[0m\u001b[1;33m)\u001b[0m \u001b[1;33m+\u001b[0m \u001b[1;34m' but got array with shape '\u001b[0m \u001b[1;33m+\u001b[0m\u001b[1;33m\u001b[0m\u001b[1;33m\u001b[0m\u001b[0m\n\u001b[1;32m--> 138\u001b[1;33m                             str(data_shape))\n\u001b[0m\u001b[0;32m    139\u001b[0m     \u001b[1;32mreturn\u001b[0m \u001b[0mdata\u001b[0m\u001b[1;33m\u001b[0m\u001b[1;33m\u001b[0m\u001b[0m\n\u001b[0;32m    140\u001b[0m \u001b[1;33m\u001b[0m\u001b[0m\n",
      "\u001b[1;31mValueError\u001b[0m: Error when checking target: expected activation_5 to have shape (6,) but got array with shape (7,)"
     ]
    }
   ],
   "source": [
    "history = model.fit(X_train, y_train_encoded,\n",
    "                   epochs=5,\n",
    "                   verbose=True,\n",
    "                   validation_data=(X_validation, y_validation_encoded),\n",
    "                   batch_size=32)"
   ]
  },
  {
   "cell_type": "markdown",
   "metadata": {},
   "source": [
    "### Model Evaluation\n",
    "By saving our fit model we can look at the performance over each iteration, or epoch. Let's plot how our accuracy, both training and test, looks over the epochs."
   ]
  },
  {
   "cell_type": "code",
   "execution_count": null,
   "metadata": {
    "scrolled": false
   },
   "outputs": [],
   "source": [
    "# Plot Performance\n",
    "def plot_nn_performance(history):\n",
    "    df_accuracy = pd.DataFrame(data={'epoch': list(range(len(history.history['categorical_accuracy']))),\n",
    "                                     'accuracy': history.history['categorical_accuracy'],\n",
    "                                     'val_acc': history.history['val_categorical_accuracy']\n",
    "\n",
    "                                    })\n",
    "\n",
    "    source = ColumnDataSource(df_accuracy)\n",
    "    p = figure(sizing_mode='stretch_width')\n",
    "    p.line(x='epoch', y='accuracy', source=source, line_width=3, legend='accuracy ')\n",
    "    p.line(x='epoch', y='val_acc', source=source, line_width=3, color='red', legend='validation accuracy ')\n",
    "    p.legend.location = 'bottom_right'\n",
    "    # p.y_range = Range1d(0, 1)\n",
    "    show(p)"
   ]
  },
  {
   "cell_type": "code",
   "execution_count": null,
   "metadata": {},
   "outputs": [],
   "source": [
    "plot_nn_performance(history)"
   ]
  },
  {
   "cell_type": "markdown",
   "metadata": {},
   "source": [
    "Generally we see that around epoch number 5 our model has stagnated in terms of validation accuracy, so going forward it seems we can cut down drastically on the number of epochs (and run time). Overall our Neural Network has a good improvement over Logistic Regression, reaching an accuracy of around 85% (vs. 77% for Logistic Regression."
   ]
  },
  {
   "cell_type": "markdown",
   "metadata": {},
   "source": [
    "### Refit the model with a more appropriate training process\n",
    "We will recompile the model and refit to make sure we don't take any of the learnings of the previous model. Here we will only train over 6 epochs as it seems there isn't much to gain after that."
   ]
  },
  {
   "cell_type": "code",
   "execution_count": null,
   "metadata": {},
   "outputs": [],
   "source": [
    "model.compile(loss='categorical_crossentropy',\n",
    "              optimizer='adam',\n",
    "              metrics=['accuracy'])\n",
    "model.summary()\n",
    "\n",
    "history = model.fit(X_train, y_train_encoded,\n",
    "                   epochs=6,\n",
    "                   verbose=True,\n",
    "                   validation_data=(X_validation, y_validation_encoded),\n",
    "                   batch_size=32)"
   ]
  },
  {
   "cell_type": "markdown",
   "metadata": {},
   "source": [
    "\n",
    "### Predicting our final test data\n",
    "When we originally split our data we made train, validation and test set. We can now use that test set to get a final prediction."
   ]
  },
  {
   "cell_type": "code",
   "execution_count": null,
   "metadata": {},
   "outputs": [],
   "source": [
    "nn_test_accuracy = model.evaluate(X_test, y=y_test_encoded)[1]\n",
    "nn_test_accuracy"
   ]
  },
  {
   "cell_type": "code",
   "execution_count": null,
   "metadata": {},
   "outputs": [],
   "source": [
    "# preds = np.argmax(model.predict(X_test), -1)\n",
    "# df = pd.read_csv('X_test_lr.csv')\n",
    "# df['preds'] = preds\n",
    "\n",
    "# accuracy_score(preds, df['bedrooms'].values)"
   ]
  },
  {
   "cell_type": "markdown",
   "metadata": {},
   "source": [
    "We see that our deep neural network was able to achieve a test accuracy of 87.3%, which is a significant upgrade over the baseline model of Logisitc Regression (~78%)"
   ]
  },
  {
   "cell_type": "markdown",
   "metadata": {},
   "source": [
    "## Word Embeddings Model\n",
    "Our previous model used the Bag Of Words approach, where each feature was a word from our total vocabulary across the training set. The values were the number of occurences of those words in that line. Another strategy for turning text into a numerical matrix is to use word embeddings. At a high level, this groups similar words"
   ]
  },
  {
   "cell_type": "code",
   "execution_count": null,
   "metadata": {},
   "outputs": [],
   "source": [
    "# Start fresh as we tokenized our data\n",
    "df = pd.read_csv('../../notebooks/housing.csv')[['name', 'bedrooms']]\n",
    "df.dropna(inplace=True)\n",
    "sentences_train, sentences_validation, sentences_test, y_train, y_validation, y_test = create_train_and_test(df, .8, .1)"
   ]
  },
  {
   "cell_type": "code",
   "execution_count": null,
   "metadata": {},
   "outputs": [],
   "source": [
    "# Train\n",
    "encoder = LabelEncoder()\n",
    "encoder.fit(y_train)\n",
    "y_train_encoded = encoder.transform(y_train)\n",
    "y_train_encoded = np_utils.to_categorical(y_train_encoded)\n",
    "\n",
    "# Validation\n",
    "encoder = LabelEncoder()\n",
    "encoder.fit(y_validation)\n",
    "y_validation_encoded = encoder.transform(y_validation)\n",
    "y_validation_encoded = np_utils.to_categorical(y_validation_encoded)\n",
    "\n",
    "# Test\n",
    "encoder = LabelEncoder()\n",
    "encoder.fit(y_test)\n",
    "y_test_encoded = encoder.transform(y_test)\n",
    "y_test_encoded = np_utils.to_categorical(y_test_encoded)"
   ]
  },
  {
   "cell_type": "code",
   "execution_count": null,
   "metadata": {},
   "outputs": [],
   "source": [
    "# Fit the Tokenizer to our text\n",
    "tokenizer = Tokenizer(num_words=2000)\n",
    "tokenizer.fit_on_texts(sentences_train['name'].values)\n",
    "\n",
    "# Export pickle\n",
    "with open('tokenizer.pickle', 'wb') as handle:\n",
    "    pickle.dump(tokenizer, handle, protocol=pickle.HIGHEST_PROTOCOL)\n",
    "\n",
    "# Create our tokenized versions of datasets\n",
    "X_train = tokenizer.texts_to_sequences(sentences_train['name'].values)\n",
    "X_validation = tokenizer.texts_to_sequences(sentences_validation['name'].values)\n",
    "X_test = tokenizer.texts_to_sequences(sentences_test['name'].values)\n",
    "num_of_words = len(tokenizer.word_index) + 1"
   ]
  },
  {
   "cell_type": "code",
   "execution_count": null,
   "metadata": {},
   "outputs": [],
   "source": [
    "sentences_train['name'].head()"
   ]
  },
  {
   "cell_type": "code",
   "execution_count": null,
   "metadata": {
    "scrolled": true
   },
   "outputs": [],
   "source": [
    "X_train[0:5]"
   ]
  },
  {
   "cell_type": "code",
   "execution_count": null,
   "metadata": {
    "scrolled": true
   },
   "outputs": [],
   "source": [
    "# Make our vectors all the same length with padding\n",
    "max_length = 25\n",
    "X_train = pad_sequences(X_train, padding='post', maxlen=max_length)\n",
    "X_validation = pad_sequences(X_validation, padding='post', maxlen=max_length)\n",
    "X_test = pad_sequences(X_test, padding='post', maxlen=max_length)\n",
    "\n",
    "X_train[0:5]"
   ]
  },
  {
   "cell_type": "code",
   "execution_count": null,
   "metadata": {
    "scrolled": false
   },
   "outputs": [],
   "source": [
    "embedding_dim = 50\n",
    "model = Sequential()\n",
    "model.add(layers.Embedding(input_dim=num_of_words, \n",
    "                           output_dim=embedding_dim, \n",
    "                           input_length=max_length))\n",
    "model.add(layers.Flatten())\n",
    "model.add(Dense(64, input_dim=input_dim, activation='relu'))\n",
    "model.add(Activation('relu'))\n",
    "model.add(Dropout(.5))\n",
    "model.add(Dense(32, input_dim=input_dim, activation='relu'))\n",
    "model.add(Activation('relu'))\n",
    "model.add(Dropout(.5))\n",
    "model.add(Dense(6))\n",
    "model.add(Activation('softmax'))\n",
    "model.compile(loss='categorical_crossentropy',\n",
    "              optimizer='adam',\n",
    "              metrics=['categorical_accuracy'])\n",
    "model.summary()"
   ]
  },
  {
   "cell_type": "code",
   "execution_count": null,
   "metadata": {},
   "outputs": [],
   "source": [
    "history = model.fit(X_train, y_train_encoded,\n",
    "                    epochs=10,\n",
    "                    verbose=True,\n",
    "                    validation_data=(X_validation, y_validation_encoded),\n",
    "                    batch_size=32)\n",
    "plot_nn_performance(history)"
   ]
  },
  {
   "cell_type": "markdown",
   "metadata": {},
   "source": [
    "### Fit reduced model with fewer epochs"
   ]
  },
  {
   "cell_type": "code",
   "execution_count": null,
   "metadata": {},
   "outputs": [],
   "source": [
    "embedding_dim = 50\n",
    "model = Sequential()\n",
    "model.add(layers.Embedding(input_dim=num_of_words, \n",
    "                           output_dim=embedding_dim, \n",
    "                           input_length=max_length))\n",
    "model.add(layers.Flatten())\n",
    "model.add(Dense(64, input_dim=input_dim, activation='relu'))\n",
    "model.add(Activation('relu'))\n",
    "model.add(Dropout(.5))\n",
    "model.add(Dense(32, input_dim=input_dim, activation='relu'))\n",
    "model.add(Activation('relu'))\n",
    "model.add(Dropout(.5))\n",
    "model.add(Dense(6))\n",
    "model.add(Activation('softmax'))\n",
    "model.compile(loss='categorical_crossentropy',\n",
    "              optimizer='adam',\n",
    "              metrics=['categorical_accuracy'])\n",
    "model.summary()\n",
    "history = model.fit(X_train, y_train_encoded,\n",
    "                    epochs=5,\n",
    "                    verbose=False,\n",
    "                    validation_data=(X_validation, y_validation_encoded),\n",
    "                    batch_size=32)\n",
    "nn_we_test_accuracy = model.evaluate(X_test, y=y_test_encoded)[1]\n",
    "nn_we_test_accuracy"
   ]
  },
  {
   "cell_type": "markdown",
   "metadata": {},
   "source": [
    "## Convolutional Neural Network"
   ]
  },
  {
   "cell_type": "code",
   "execution_count": null,
   "metadata": {
    "scrolled": false
   },
   "outputs": [],
   "source": [
    "embedding_dim = 100\n",
    "model = Sequential()\n",
    "model.add(layers.Embedding(num_of_words, embedding_dim, input_length=max_length))\n",
    "model.add(layers.Conv1D(128, 5, activation='relu'))\n",
    "model.add(layers.GlobalMaxPooling1D())\n",
    "model.add(layers.Dense(10, activation='relu'))\n",
    "model.add(layers.Dense(6, activation='softmax'))\n",
    "model.compile(optimizer='adam',\n",
    "              loss='categorical_crossentropy',\n",
    "              metrics=['categorical_accuracy'])\n",
    "model.summary()"
   ]
  },
  {
   "cell_type": "code",
   "execution_count": null,
   "metadata": {
    "scrolled": false
   },
   "outputs": [],
   "source": [
    "history = model.fit(X_train, y_train_encoded,\n",
    "                    epochs=30,\n",
    "                    verbose=True,\n",
    "                    validation_data=(X_validation, y_validation_encoded),\n",
    "                    batch_size=32)\n",
    "plot_nn_performance(history)"
   ]
  },
  {
   "cell_type": "markdown",
   "metadata": {},
   "source": [
    "### Fit reduced model with fewer epochs"
   ]
  },
  {
   "cell_type": "code",
   "execution_count": null,
   "metadata": {
    "scrolled": false
   },
   "outputs": [],
   "source": [
    "embedding_dim = 100\n",
    "model = Sequential()\n",
    "model.add(layers.Embedding(num_of_words, embedding_dim, input_length=max_length))\n",
    "model.add(layers.Conv1D(128, 5, activation='relu'))\n",
    "model.add(layers.GlobalMaxPooling1D())\n",
    "model.add(layers.Dense(10, activation='relu'))\n",
    "model.add(layers.Dense(6, activation='softmax'))\n",
    "model.compile(optimizer='adam',\n",
    "              loss='categorical_crossentropy',\n",
    "              metrics=['categorical_accuracy'])\n",
    "model.summary()\n",
    "history = model.fit(X_train, y_train_encoded,\n",
    "                    epochs=3,\n",
    "                    verbose=False,\n",
    "                    validation_data=(X_validation, y_validation_encoded),\n",
    "                    batch_size=32)"
   ]
  },
  {
   "cell_type": "markdown",
   "metadata": {},
   "source": [
    "## Export our CNN"
   ]
  },
  {
   "cell_type": "code",
   "execution_count": null,
   "metadata": {},
   "outputs": [],
   "source": [
    "model_json = model.to_json()\n",
    "with open(\"model.json\", \"w\") as json_file:\n",
    "    json_file.write(model_json)\n",
    "\n",
    "model.save_weights(\"model.h5\")"
   ]
  }
 ],
 "metadata": {
  "kernelspec": {
   "display_name": "Python 3",
   "language": "python",
   "name": "python3"
  },
  "language_info": {
   "codemirror_mode": {
    "name": "ipython",
    "version": 3
   },
   "file_extension": ".py",
   "mimetype": "text/x-python",
   "name": "python",
   "nbconvert_exporter": "python",
   "pygments_lexer": "ipython3",
   "version": "3.6.8"
  }
 },
 "nbformat": 4,
 "nbformat_minor": 2
}
